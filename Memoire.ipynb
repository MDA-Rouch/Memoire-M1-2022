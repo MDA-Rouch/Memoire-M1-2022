{
 "cells": [
  {
   "cell_type": "code",
   "execution_count": 1,
   "id": "8feaa2e7",
   "metadata": {},
   "outputs": [],
   "source": [
    "################################\n",
    "### Import des bibliothèques ###\n",
    "################################"
   ]
  },
  {
   "cell_type": "code",
   "execution_count": 2,
   "id": "1efcdfe0",
   "metadata": {},
   "outputs": [],
   "source": [
    "import pandas as pd\n",
    "from sklearn.metrics import cohen_kappa_score\n",
    "import numpy as np\n",
    "import nltk\n",
    "from nltk.corpus import stopwords\n",
    "from nltk.stem import *\n",
    "from nltk.stem import WordNetLemmatizer\n",
    "import spacy\n",
    "from num2words import num2words\n",
    "from nltk.stem.snowball import FrenchStemmer\n"
   ]
  },
  {
   "cell_type": "code",
   "execution_count": 3,
   "id": "095c7870",
   "metadata": {},
   "outputs": [],
   "source": [
    "#######################################\n",
    "### Def des étapes de preprocessing ###\n",
    "#######################################"
   ]
  },
  {
   "cell_type": "code",
   "execution_count": 4,
   "id": "26c5b128",
   "metadata": {},
   "outputs": [],
   "source": [
    "def convertir_en_minuscule(data):\n",
    "    data_lowered = []\n",
    "    for text in data:\n",
    "        text_lowered = np.char.lower(text)\n",
    "        data_lowered.append(str(text_lowered))\n",
    "    return data_lowered"
   ]
  },
  {
   "cell_type": "code",
   "execution_count": 5,
   "id": "378c2283",
   "metadata": {},
   "outputs": [],
   "source": [
    "def retirer_mots_vides(data):\n",
    "    stop_words = stopwords.words('french')\n",
    "    clean_data = []\n",
    "    for text in data:\n",
    "        words = text.split()\n",
    "        new_text = \"\"\n",
    "        for word in words:\n",
    "            if word not in stop_words:\n",
    "                new_text = new_text + \" \" + word\n",
    "        clean_data.append(new_text)\n",
    "    return clean_data"
   ]
  },
  {
   "cell_type": "code",
   "execution_count": 6,
   "id": "79f2e797",
   "metadata": {},
   "outputs": [],
   "source": [
    "def retirer_ponctuation(data):\n",
    "    symbols = \"!\\\"#$%&()*+-./:;<=>?@[\\]^_`{|}~\\n,\"\n",
    "    clean_data = []\n",
    "    for text in data:\n",
    "        for i in symbols:\n",
    "            text = text.replace(i, ' ')\n",
    "        clean_data.append(text)\n",
    "    return clean_data"
   ]
  },
  {
   "cell_type": "code",
   "execution_count": 7,
   "id": "aedbe49d",
   "metadata": {},
   "outputs": [],
   "source": [
    "def retirer_apostrophe(data):\n",
    "    clean_data = []\n",
    "    for text in data:\n",
    "        text = text.replace(\"'\", \"\")\n",
    "        clean_data.append(text)\n",
    "    return clean_data"
   ]
  },
  {
   "cell_type": "code",
   "execution_count": 8,
   "id": "e7760fd9",
   "metadata": {},
   "outputs": [],
   "source": [
    "def retirer_caractere_unique(data):\n",
    "    clean_data = []\n",
    "    for text in data:\n",
    "        words = text.split()\n",
    "        new_text = \"\"\n",
    "        for word in words:\n",
    "            if len(word) > 1:\n",
    "                new_text = new_text + \" \" + word\n",
    "        clean_data.append(new_text)\n",
    "    return clean_data"
   ]
  },
  {
   "cell_type": "code",
   "execution_count": 9,
   "id": "78677a36",
   "metadata": {},
   "outputs": [],
   "source": [
    "def racinisation(data):\n",
    "    stemmer = FrenchStemmer()\n",
    "    clean_data = []\n",
    "    for text in data:\n",
    "        words = text.split()\n",
    "        new_text = \"\"\n",
    "        for word in words:\n",
    "            new_text = new_text + \" \" + stemmer.stem(word)\n",
    "        clean_data.append(new_text)\n",
    "    return clean_data\n"
   ]
  },
  {
   "cell_type": "code",
   "execution_count": 10,
   "id": "3b809dae",
   "metadata": {},
   "outputs": [],
   "source": [
    "def lemmatisation(data):\n",
    "    nlp = spacy.load('fr_core_news_md')\n",
    "    clean_data = []\n",
    "    for text in data:\n",
    "        doc = nlp(text)\n",
    "        new_text = \"\"\n",
    "        for word in doc:\n",
    "            new_text = new_text + \" \" + word.lemma_\n",
    "        clean_data.append(new_text)\n",
    "    return clean_data"
   ]
  },
  {
   "cell_type": "code",
   "execution_count": 11,
   "id": "0fe26d92",
   "metadata": {},
   "outputs": [],
   "source": [
    "def nombres_en_lettres(data):\n",
    "    clean_data = []\n",
    "    for text in data:\n",
    "        words = text.split()\n",
    "        new_text = \"\"\n",
    "        for word in words:\n",
    "            try:\n",
    "                num = num2words(word, lang='fr')\n",
    "                new_text = new_text + \" \" + num\n",
    "            except:\n",
    "                new_text = new_text + \" \" + word\n",
    "        clean_data.append(new_text)\n",
    "    return clean_data"
   ]
  },
  {
   "cell_type": "code",
   "execution_count": 12,
   "id": "27760ce4",
   "metadata": {},
   "outputs": [],
   "source": [
    "def retirer_accents(data):\n",
    "    e = \"éèëê\"\n",
    "    a = \"àâ\"\n",
    "    i = \"ïî\"\n",
    "    o = \"ô\"\n",
    "    u = \"ùû\"\n",
    "    clean_data = []\n",
    "    for text in data:\n",
    "        for x in e:\n",
    "            text = text.replace(x, 'e')\n",
    "        for x in a:\n",
    "            text = text.replace(x, 'a')\n",
    "        for x in i:\n",
    "            text = text.replace(x, 'i')\n",
    "        for x in o:\n",
    "            text = text.replace(x, 'o')\n",
    "        for x in u:\n",
    "            text = text.replace(x, 'u')\n",
    "        clean_data.append(text)\n",
    "    return clean_data"
   ]
  },
  {
   "cell_type": "code",
   "execution_count": 13,
   "id": "ec68d591",
   "metadata": {},
   "outputs": [],
   "source": [
    "#########################\n",
    "### def Preprocessing ###\n",
    "#########################"
   ]
  },
  {
   "cell_type": "code",
   "execution_count": 14,
   "id": "3f56f1a0",
   "metadata": {},
   "outputs": [],
   "source": [
    "#On transforme les nombres en lettres avant de retirer les caractères uniques pour éviter de perdre les nombres composé d'un seul\n",
    "#chiffres\n",
    "#On retire les accents car le texte est en français\n",
    "\n",
    "def pretraitement(data):\n",
    "    data = convertir_en_minuscule(data)\n",
    "    data = retirer_ponctuation(data)\n",
    "    data = retirer_apostrophe(data)\n",
    "    data = retirer_accents(data)\n",
    "    data = nombres_en_lettres(data)\n",
    "    data = retirer_caractere_unique(data)\n",
    "    data = retirer_mots_vides(data)\n",
    "    data = lemmatisation(data)\n",
    "    return data"
   ]
  },
  {
   "cell_type": "code",
   "execution_count": 15,
   "id": "7cd5995e",
   "metadata": {},
   "outputs": [],
   "source": [
    "###############################\n",
    "#### Import Base de données ###\n",
    "###############################"
   ]
  },
  {
   "cell_type": "code",
   "execution_count": 16,
   "id": "22e07f84",
   "metadata": {},
   "outputs": [
    {
     "data": {
      "text/html": [
       "<div>\n",
       "<style scoped>\n",
       "    .dataframe tbody tr th:only-of-type {\n",
       "        vertical-align: middle;\n",
       "    }\n",
       "\n",
       "    .dataframe tbody tr th {\n",
       "        vertical-align: top;\n",
       "    }\n",
       "\n",
       "    .dataframe thead th {\n",
       "        text-align: right;\n",
       "    }\n",
       "</style>\n",
       "<table border=\"1\" class=\"dataframe\">\n",
       "  <thead>\n",
       "    <tr style=\"text-align: right;\">\n",
       "      <th></th>\n",
       "      <th>commentaire</th>\n",
       "      <th>note</th>\n",
       "      <th>note_eval</th>\n",
       "    </tr>\n",
       "  </thead>\n",
       "  <tbody>\n",
       "    <tr>\n",
       "      <th>0</th>\n",
       "      <td>Netflix ne considère pas ses clients Le servic...</td>\n",
       "      <td>1</td>\n",
       "      <td>1</td>\n",
       "    </tr>\n",
       "    <tr>\n",
       "      <th>1</th>\n",
       "      <td>Toujours pareil les mêmes films séries C'est u...</td>\n",
       "      <td>2</td>\n",
       "      <td>2</td>\n",
       "    </tr>\n",
       "    <tr>\n",
       "      <th>2</th>\n",
       "      <td>j'adore tout simplement. juste un peu cher à m...</td>\n",
       "      <td>4</td>\n",
       "      <td>4</td>\n",
       "    </tr>\n",
       "    <tr>\n",
       "      <th>3</th>\n",
       "      <td>J'avais le forfait standard avec une image de ...</td>\n",
       "      <td>1</td>\n",
       "      <td>1</td>\n",
       "    </tr>\n",
       "    <tr>\n",
       "      <th>4</th>\n",
       "      <td>Des voleurs Tout simplement, des voleurs. Surv...</td>\n",
       "      <td>1</td>\n",
       "      <td>1</td>\n",
       "    </tr>\n",
       "    <tr>\n",
       "      <th>...</th>\n",
       "      <td>...</td>\n",
       "      <td>...</td>\n",
       "      <td>...</td>\n",
       "    </tr>\n",
       "    <tr>\n",
       "      <th>97</th>\n",
       "      <td>On parle de Netflix et ses séries \"originales\"...</td>\n",
       "      <td>5</td>\n",
       "      <td>5</td>\n",
       "    </tr>\n",
       "    <tr>\n",
       "      <th>98</th>\n",
       "      <td>SUITE ET FIN FLIXBIP et oui le respect des oeu...</td>\n",
       "      <td>1</td>\n",
       "      <td>3</td>\n",
       "    </tr>\n",
       "    <tr>\n",
       "      <th>99</th>\n",
       "      <td>certes c est bien on peut regarder des films o...</td>\n",
       "      <td>1</td>\n",
       "      <td>3</td>\n",
       "    </tr>\n",
       "    <tr>\n",
       "      <th>100</th>\n",
       "      <td>Vraiment Netflix au TOP qualité, quantité, tre...</td>\n",
       "      <td>5</td>\n",
       "      <td>5</td>\n",
       "    </tr>\n",
       "    <tr>\n",
       "      <th>101</th>\n",
       "      <td>Regarder des films en streaming Si vous aimez ...</td>\n",
       "      <td>5</td>\n",
       "      <td>4</td>\n",
       "    </tr>\n",
       "  </tbody>\n",
       "</table>\n",
       "<p>102 rows × 3 columns</p>\n",
       "</div>"
      ],
      "text/plain": [
       "                                           commentaire  note  note_eval\n",
       "0    Netflix ne considère pas ses clients Le servic...     1          1\n",
       "1    Toujours pareil les mêmes films séries C'est u...     2          2\n",
       "2    j'adore tout simplement. juste un peu cher à m...     4          4\n",
       "3    J'avais le forfait standard avec une image de ...     1          1\n",
       "4    Des voleurs Tout simplement, des voleurs. Surv...     1          1\n",
       "..                                                 ...   ...        ...\n",
       "97   On parle de Netflix et ses séries \"originales\"...     5          5\n",
       "98   SUITE ET FIN FLIXBIP et oui le respect des oeu...     1          3\n",
       "99   certes c est bien on peut regarder des films o...     1          3\n",
       "100  Vraiment Netflix au TOP qualité, quantité, tre...     5          5\n",
       "101  Regarder des films en streaming Si vous aimez ...     5          4\n",
       "\n",
       "[102 rows x 3 columns]"
      ]
     },
     "execution_count": 16,
     "metadata": {},
     "output_type": "execute_result"
    }
   ],
   "source": [
    "#la colonne \"commentaire\" contient les commentaires des consommateurs, la colonne \"note\" contient les \n",
    "#notes accompagnant les commentaires et la colonne \"note_eval\" les notes attribués aux commentaires\n",
    "#par un évaluateur\n",
    "\n",
    "bdd = pd.read_csv(\"avis_netflix.csv\", sep=\";\")\n",
    "bdd"
   ]
  },
  {
   "cell_type": "code",
   "execution_count": 17,
   "id": "d3aad3a0",
   "metadata": {},
   "outputs": [],
   "source": [
    "#Création d'une variable différenciant les commentaires positifs (note de 4 ou 5) des commentaires\n",
    "#négatifs (note de 1 à 3)\n",
    "\n",
    "binary = []\n",
    "for i in bdd['note']:\n",
    "    if i > 3:\n",
    "        binary.append(True)\n",
    "    else:\n",
    "        binary.append(False)"
   ]
  },
  {
   "cell_type": "code",
   "execution_count": 18,
   "id": "06c33674",
   "metadata": {},
   "outputs": [],
   "source": [
    "#Création d'une variable différenciant les commentaires ayant la note de 5 des autres commentaires\n",
    "\n",
    "binary_pos = []\n",
    "for i in bdd['note']:\n",
    "    if i == 5:\n",
    "        binary_pos.append(True)\n",
    "    else:\n",
    "        binary_pos.append(False)"
   ]
  },
  {
   "cell_type": "code",
   "execution_count": 19,
   "id": "dd3785f1",
   "metadata": {},
   "outputs": [],
   "source": [
    "#Création d'une variable différenciant les commentaires ayant la note de 1 des autres commentaires\n",
    "\n",
    "binary_neg = []\n",
    "for i in bdd['note']:\n",
    "    if i == 1:\n",
    "        binary_neg.append(True)\n",
    "    else:\n",
    "        binary_neg.append(False)"
   ]
  },
  {
   "cell_type": "code",
   "execution_count": 20,
   "id": "242271d7",
   "metadata": {},
   "outputs": [],
   "source": [
    "################################\n",
    "### Base de données complète ###\n",
    "################################"
   ]
  },
  {
   "cell_type": "code",
   "execution_count": 21,
   "id": "0b73d0d4",
   "metadata": {},
   "outputs": [
    {
     "data": {
      "text/html": [
       "<div>\n",
       "<style scoped>\n",
       "    .dataframe tbody tr th:only-of-type {\n",
       "        vertical-align: middle;\n",
       "    }\n",
       "\n",
       "    .dataframe tbody tr th {\n",
       "        vertical-align: top;\n",
       "    }\n",
       "\n",
       "    .dataframe thead th {\n",
       "        text-align: right;\n",
       "    }\n",
       "</style>\n",
       "<table border=\"1\" class=\"dataframe\">\n",
       "  <thead>\n",
       "    <tr style=\"text-align: right;\">\n",
       "      <th></th>\n",
       "      <th>commentaire</th>\n",
       "      <th>note</th>\n",
       "      <th>note_eval</th>\n",
       "      <th>binary</th>\n",
       "      <th>binary_neg</th>\n",
       "      <th>binary_pos</th>\n",
       "    </tr>\n",
       "  </thead>\n",
       "  <tbody>\n",
       "    <tr>\n",
       "      <th>0</th>\n",
       "      <td>Netflix ne considère pas ses clients Le servic...</td>\n",
       "      <td>1</td>\n",
       "      <td>1</td>\n",
       "      <td>False</td>\n",
       "      <td>True</td>\n",
       "      <td>False</td>\n",
       "    </tr>\n",
       "    <tr>\n",
       "      <th>1</th>\n",
       "      <td>Toujours pareil les mêmes films séries C'est u...</td>\n",
       "      <td>2</td>\n",
       "      <td>2</td>\n",
       "      <td>False</td>\n",
       "      <td>False</td>\n",
       "      <td>False</td>\n",
       "    </tr>\n",
       "    <tr>\n",
       "      <th>2</th>\n",
       "      <td>j'adore tout simplement. juste un peu cher à m...</td>\n",
       "      <td>4</td>\n",
       "      <td>4</td>\n",
       "      <td>True</td>\n",
       "      <td>False</td>\n",
       "      <td>False</td>\n",
       "    </tr>\n",
       "    <tr>\n",
       "      <th>3</th>\n",
       "      <td>J'avais le forfait standard avec une image de ...</td>\n",
       "      <td>1</td>\n",
       "      <td>1</td>\n",
       "      <td>False</td>\n",
       "      <td>True</td>\n",
       "      <td>False</td>\n",
       "    </tr>\n",
       "    <tr>\n",
       "      <th>4</th>\n",
       "      <td>Des voleurs Tout simplement, des voleurs. Surv...</td>\n",
       "      <td>1</td>\n",
       "      <td>1</td>\n",
       "      <td>False</td>\n",
       "      <td>True</td>\n",
       "      <td>False</td>\n",
       "    </tr>\n",
       "    <tr>\n",
       "      <th>...</th>\n",
       "      <td>...</td>\n",
       "      <td>...</td>\n",
       "      <td>...</td>\n",
       "      <td>...</td>\n",
       "      <td>...</td>\n",
       "      <td>...</td>\n",
       "    </tr>\n",
       "    <tr>\n",
       "      <th>97</th>\n",
       "      <td>On parle de Netflix et ses séries \"originales\"...</td>\n",
       "      <td>5</td>\n",
       "      <td>5</td>\n",
       "      <td>True</td>\n",
       "      <td>False</td>\n",
       "      <td>True</td>\n",
       "    </tr>\n",
       "    <tr>\n",
       "      <th>98</th>\n",
       "      <td>SUITE ET FIN FLIXBIP et oui le respect des oeu...</td>\n",
       "      <td>1</td>\n",
       "      <td>3</td>\n",
       "      <td>False</td>\n",
       "      <td>True</td>\n",
       "      <td>False</td>\n",
       "    </tr>\n",
       "    <tr>\n",
       "      <th>99</th>\n",
       "      <td>certes c est bien on peut regarder des films o...</td>\n",
       "      <td>1</td>\n",
       "      <td>3</td>\n",
       "      <td>False</td>\n",
       "      <td>True</td>\n",
       "      <td>False</td>\n",
       "    </tr>\n",
       "    <tr>\n",
       "      <th>100</th>\n",
       "      <td>Vraiment Netflix au TOP qualité, quantité, tre...</td>\n",
       "      <td>5</td>\n",
       "      <td>5</td>\n",
       "      <td>True</td>\n",
       "      <td>False</td>\n",
       "      <td>True</td>\n",
       "    </tr>\n",
       "    <tr>\n",
       "      <th>101</th>\n",
       "      <td>Regarder des films en streaming Si vous aimez ...</td>\n",
       "      <td>5</td>\n",
       "      <td>4</td>\n",
       "      <td>True</td>\n",
       "      <td>False</td>\n",
       "      <td>True</td>\n",
       "    </tr>\n",
       "  </tbody>\n",
       "</table>\n",
       "<p>102 rows × 6 columns</p>\n",
       "</div>"
      ],
      "text/plain": [
       "                                           commentaire  note  note_eval  \\\n",
       "0    Netflix ne considère pas ses clients Le servic...     1          1   \n",
       "1    Toujours pareil les mêmes films séries C'est u...     2          2   \n",
       "2    j'adore tout simplement. juste un peu cher à m...     4          4   \n",
       "3    J'avais le forfait standard avec une image de ...     1          1   \n",
       "4    Des voleurs Tout simplement, des voleurs. Surv...     1          1   \n",
       "..                                                 ...   ...        ...   \n",
       "97   On parle de Netflix et ses séries \"originales\"...     5          5   \n",
       "98   SUITE ET FIN FLIXBIP et oui le respect des oeu...     1          3   \n",
       "99   certes c est bien on peut regarder des films o...     1          3   \n",
       "100  Vraiment Netflix au TOP qualité, quantité, tre...     5          5   \n",
       "101  Regarder des films en streaming Si vous aimez ...     5          4   \n",
       "\n",
       "     binary  binary_neg  binary_pos  \n",
       "0     False        True       False  \n",
       "1     False       False       False  \n",
       "2      True       False       False  \n",
       "3     False        True       False  \n",
       "4     False        True       False  \n",
       "..      ...         ...         ...  \n",
       "97     True       False        True  \n",
       "98    False        True       False  \n",
       "99    False        True       False  \n",
       "100    True       False        True  \n",
       "101    True       False        True  \n",
       "\n",
       "[102 rows x 6 columns]"
      ]
     },
     "execution_count": 21,
     "metadata": {},
     "output_type": "execute_result"
    }
   ],
   "source": [
    "bdd['binary'] = binary\n",
    "bdd['binary_neg'] = binary_neg\n",
    "bdd['binary_pos'] = binary_pos\n",
    "bdd"
   ]
  },
  {
   "cell_type": "code",
   "execution_count": 22,
   "id": "901cdcb2",
   "metadata": {},
   "outputs": [],
   "source": [
    "#################################\n",
    "#### Calcul du Kappa de Cohen ###\n",
    "#################################\n"
   ]
  },
  {
   "cell_type": "code",
   "execution_count": 23,
   "id": "3bee9916",
   "metadata": {},
   "outputs": [],
   "source": [
    "y_true = list(bdd[\"note\"])\n",
    "y_pred = list(bdd[\"note_eval\"])"
   ]
  },
  {
   "cell_type": "code",
   "execution_count": 24,
   "id": "4882251f",
   "metadata": {},
   "outputs": [
    {
     "data": {
      "text/plain": [
       "0.6359000509943906"
      ]
     },
     "execution_count": 24,
     "metadata": {},
     "output_type": "execute_result"
    }
   ],
   "source": [
    "#y_true contient les notes des avis et y_pred contient les notes attribuées par l'évaluateur\n",
    "\n",
    "cohen_kappa_score(y_true, y_pred)"
   ]
  },
  {
   "cell_type": "code",
   "execution_count": 25,
   "id": "5b13cd3c",
   "metadata": {},
   "outputs": [],
   "source": [
    "### Accord compris entre 0.61 et 0.8 => accord fort"
   ]
  },
  {
   "cell_type": "code",
   "execution_count": 26,
   "id": "53d38c4a",
   "metadata": {},
   "outputs": [],
   "source": [
    "#####################\n",
    "### Preprocessing ###\n",
    "#####################"
   ]
  },
  {
   "cell_type": "code",
   "execution_count": 27,
   "id": "6ab4c5ab",
   "metadata": {},
   "outputs": [],
   "source": [
    "data = list(bdd['commentaire'].astype(str))"
   ]
  },
  {
   "cell_type": "code",
   "execution_count": 28,
   "id": "b7c2bf0b",
   "metadata": {},
   "outputs": [
    {
     "name": "stderr",
     "output_type": "stream",
     "text": [
      "C:\\Users\\diuky\\anaconda3\\lib\\site-packages\\spacy\\util.py:833: UserWarning: [W095] Model 'fr_core_news_md' (3.1.0) was trained with spaCy v3.1 and may not be 100% compatible with the current version (3.2.4). If you see errors or degraded performance, download a newer compatible model or retrain your custom model with the current spaCy version. For more details and available updates, run: python -m spacy validate\n",
      "  warnings.warn(warn_msg)\n"
     ]
    }
   ],
   "source": [
    "data = pretraitement(data)"
   ]
  },
  {
   "cell_type": "code",
   "execution_count": 29,
   "id": "7e48b634",
   "metadata": {},
   "outputs": [],
   "source": [
    "########################\n",
    "### calcul du TF-IDF ###\n",
    "########################\n"
   ]
  },
  {
   "cell_type": "code",
   "execution_count": 30,
   "id": "63c505d1",
   "metadata": {},
   "outputs": [],
   "source": [
    "DF = {}\n",
    "for i in range(len(data)):\n",
    "    tokens = data[i].split()\n",
    "    for w in tokens:\n",
    "        try:\n",
    "            DF[w].add(i)\n",
    "        except:\n",
    "            DF[w] = {i}\n",
    "for i in DF:\n",
    "    DF[i] = len(DF[i])"
   ]
  },
  {
   "cell_type": "code",
   "execution_count": 31,
   "id": "aefc1a8b",
   "metadata": {},
   "outputs": [
    {
     "name": "stdout",
     "output_type": "stream",
     "text": [
      "1094\n"
     ]
    }
   ],
   "source": [
    "total_vocab = [x for x in DF]\n",
    "print(len(total_vocab))"
   ]
  },
  {
   "cell_type": "code",
   "execution_count": 32,
   "id": "a263cc47",
   "metadata": {},
   "outputs": [],
   "source": [
    "tf_idf = {}\n",
    "for i in range(len(data)):\n",
    "    tokens = data[i].split()\n",
    "    for token in np.unique(tokens):\n",
    "        tf = tokens.count(token)/len(tokens)\n",
    "        df = DF[(token)]\n",
    "        idf = np.log(len(data)/(df))\n",
    "        tf_idf[i, token] = tf*idf"
   ]
  },
  {
   "cell_type": "code",
   "execution_count": 33,
   "id": "e8f33559",
   "metadata": {},
   "outputs": [
    {
     "name": "stdout",
     "output_type": "stream",
     "text": [
      "{(0, 'aucun'): 0.1855897950404917, (0, 'chat'): 0.3276521360603605, (0, 'client'): 0.6697656660572394, (0, 'consideration'): 0.3854144011070225, (0, 'considere'): 0.3854144011070225, (0, 'na'): 0.2698898710136983, (0, 'netflix'): 0.06636095139959801, (0, 'pret'): 0.3854144011070225, (0, 'reabonne'): 0.3854144011070225, (0, 'service'): 0.2232552220190798, (1, 'cest'): 0.1917412949907444, (1, 'film'): 0.12342333169473566, (1, 'meme'): 0.3348828330286197, (1, 'pareil'): 0.4914782040905407, (1, 'pff'): 0.5781216016605338, (1, 'serie'): 0.12342333169473566, (1, 'toujours'): 0.3769418626062713, (1, 'user'): 0.5781216016605338, (2, 'cher'): 0.40474476343660226, (2, 'gout'): 0.561689376103475, (2, 'jadore'): 0.5037657892308802, (2, 'juste'): 0.5037657892308802, (2, 'peu'): 0.3181539343551286, (2, 'simplement'): 0.43079070012145293, (2, 'tout'): 0.17966814047111385, (3, 'ce'): 0.14883681467938653, (3, 'cest'): 0.08521835332921973, (3, 'cher'): 0.15740074133645646, (3, 'conserver'): 0.2569429340713484, (3, 'faire'): 0.09051336331834889, (3, 'forfaire'): 0.2569429340713484, (3, 'image'): 0.5138858681426968, (3, 'javais'): 0.1959089180342312, (3, 'maintenant'): 0.1799265806757989, (3, 'payer'): 0.14141840397802416, (3, 'plus'): 0.08780279864226934, (3, 'qualite'): 0.26974980399422793, (3, 'scandaleux'): 0.21843475737357365, (3, 'simplement'): 0.16752971671389835, (3, 'standard'): 0.21843475737357365, (3, 'tout'): 0.06987094351654427, (4, 'abonnement'): 0.05928105921400037, (4, 'agir'): 0.0690294449743921, (4, 'aussitot'): 0.0690294449743921, (4, 'banque'): 0.0690294449743921, (4, 'base'): 0.05868396466752725, (4, 'bien'): 0.0250825945390721, (4, 'catalogu'): 0.04833848436066239, (4, 'cela'): 0.03466250328791381, (4, 'comme'): 0.03623504829773211, (4, 'compt'): 0.05263224663606211, (4, 'compte'): 0.042286766329197256, (4, 'cout'): 0.0690294449743921, (4, 'dapres'): 0.0690294449743921, (4, 'dautre'): 0.05868396466752725, (4, 'deux'): 0.06932500657582762, (4, 'dire'): 0.03998600991386504, (4, 'discordant'): 0.0690294449743921, (4, 'donc'): 0.10526449327212423, (4, 'dont'): 0.05868396466752725, (4, 'escroquerie'): 0.0690294449743921, (4, 'ete'): 0.05263224663606211, (4, 'etre'): 0.042286766329197256, (4, 'etres'): 0.0690294449743921, (4, 'facture'): 0.15789673990818634, (4, 'faiblesse'): 0.0690294449743921, (4, 'faire'): 0.04863404596209791, (4, 'fois'): 0.09001596718955733, (4, 'fuir'): 0.05868396466752725, (4, 'humain'): 0.0690294449743921, (4, 'illegal'): 0.0690294449743921, (4, 'inadapt'): 0.0690294449743921, (4, 'jamais'): 0.042286766329197256, (4, 'jer'): 0.05263224663606211, (4, 'montant'): 0.0690294449743921, (4, 'na'): 0.04833848436066239, (4, 'napparer'): 0.0690294449743921, (4, 'netflix'): 0.02377108706851272, (4, 'parler'): 0.0690294449743921, (4, 'part'): 0.042286766329197256, (4, 'prelev'): 0.0690294449743921, (4, 'prelevee'): 0.0690294449743921, (4, 'preuve'): 0.0690294449743921, (4, 'rembourse'): 0.0690294449743921, (4, 'remboursee'): 0.0690294449743921, (4, 'robot'): 0.0690294449743921, (4, 'sans'): 0.04833848436066239, (4, 'sav'): 0.1173679293350545, (4, 'simplement'): 0.045007983594778665, (4, 'solvabilite'): 0.0690294449743921, (4, 'somme'): 0.0690294449743921, (4, 'surveiller'): 0.0690294449743921, (4, 'tout'): 0.018771298258176073, (4, 'uniquement'): 0.0690294449743921, (4, 'verifier'): 0.0690294449743921, (4, 'vol'): 0.0690294449743921, (4, 'voler'): 0.0690294449743921, (4, 'voleur'): 0.1173679293350545, (5, 'aller'): 0.07741292400967417, (5, 'carrement'): 0.1310608544241442, (5, 'cher'): 0.18888088960374774, (5, 'chez'): 0.10795594840547934, (5, 'chose'): 0.10795594840547934, (5, 'concurrence'): 0.1310608544241442, (5, 'dajouter'): 0.15416576044280902, (5, 'decide'): 0.15416576044280902, (5, 'devenir'): 0.15416576044280902, (5, 'deçu'): 0.10051783002833901, (5, 'interessant'): 0.10051783002833901, (5, 'jeu'): 0.1310608544241442, (5, 'laugmentation'): 0.10051783002833901, (5, 'mobile'): 0.15416576044280902, (5, 'mourir'): 0.1310608544241442, (5, 'netflix'): 0.026544380559839206, (5, 'nul'): 0.0848510423868145, (5, 'parce'): 0.1310608544241442, (5, 'payer'): 0.0848510423868145, (5, 'peu'): 0.07423591801619668, (5, 'plus'): 0.0526816791853616, (5, 'prefere'): 0.1310608544241442, (5, 'prix'): 0.07741292400967417, (5, 'rien'): 0.07133553878320903, (5, 'service'): 0.08930208880763192, (5, 'totalement'): 0.1310608544241442, (5, 'tout'): 0.04192256610992656, (5, 'trop'): 0.16184988239653678, (6, 'fete'): 0.30833152088561805, (6, 'forme'): 0.23509070164107743, (6, 'generation'): 0.30833152088561805, (6, 'insipide'): 0.2621217088482884, (6, 'interessant'): 0.20103566005667803, (6, 'nouveau'): 0.18888088960374774, (6, 'nouveaute'): 0.15482584801934834, (6, 'nul'): 0.509106254320887, (6, 'pendant'): 0.21591189681095868, (6, 'plat'): 0.30833152088561805, (6, 'rechauffer'): 0.30833152088561805, (6, 'vivement'): 0.30833152088561805, (6, 'zéro'): 0.30833152088561805, (7, 'abonne'): 0.07863651265448651, (7, 'accro'): 0.09249945626568541, (7, 'aller'): 0.0464477544058045, (7, 'bas'): 0.09249945626568541, (7, 'casser'): 0.09249945626568541, (7, 'ce'): 0.10716250656915831, (7, 'cest'): 0.030678607198519108, (7, 'cinq'): 0.07052721049232323, (7, 'comme'): 0.048554964718961036, (7, 'dado'): 0.09249945626568541, (7, 'destine'): 0.09249945626568541, (7, 'deux'): 0.0464477544058045, (7, 'discutable'): 0.07863651265448651, (7, 'donner'): 0.07863651265448651, (7, 'dont'): 0.07863651265448651, (7, 'etre'): 0.056664266881124324, (7, 'fallacieusement'): 0.09249945626568541, (7, 'fois'): 0.060310698017003415, (7, 'gamme'): 0.09249945626568541, (7, 'lespoir'): 0.09249945626568541, (7, 'look'): 0.09249945626568541, (7, 'mieux'): 0.07863651265448651, (7, 'mille'): 0.06477356904328761, (7, 'mois'): 0.03469202110776213, (7, 'must'): 0.09249945626568541, (7, 'nouveaute'): 0.092895508811609, (7, 'nullissime'): 0.09249945626568541, (7, 'pepite'): 0.07863651265448651, (7, 'plus'): 0.09482702253365088, (7, 'pompon'): 0.09249945626568541, (7, 'prochain'): 0.09249945626568541, (7, 'public'): 0.07863651265448651, (7, 'quelque'): 0.053581253284579154, (7, 'rare'): 0.09249945626568541, (7, 'representer'): 0.09249945626568541, (7, 'reveillon'): 0.09249945626568541, (7, 'saumatr'): 0.09249945626568541, (7, 'semaine'): 0.18499891253137082, (7, 'serie'): 0.019747733071157705, (7, 'simplement'): 0.060310698017003415, (7, 'tarif'): 0.060310698017003415, (7, 'tout'): 0.05030707933191188, (7, 'up'): 0.09249945626568541, (7, 'vingt-deux'): 0.09249945626568541, (8, 'aller'): 0.049412504687026064, (8, 'aucun'): 0.09476925704195321, (8, 'augmente'): 0.06890805217371022, (8, 'bon'): 0.04383028629410073, (8, 'cata'): 0.09840367687838873, (8, 'cest'): 0.032636816168637346, (8, 'depart'): 0.09840367687838873, (8, 'depuis'): 0.051654217786128755, (8, 'diversite'): 0.08365586452604948, (8, 'doublage'): 0.08365586452604948, (8, 'euro'): 0.06890805217371022, (8, 'film'): 0.021008226671444367, (8, 'français'): 0.04078558749323534, (8, 'impressionnee'): 0.09840367687838873, (8, 'interessant'): 0.06416031703936532, (8, 'jai'): 0.054160239821370956, (8, 'jours'): 0.09840367687838873, (8, 'limpression'): 0.08365586452604948, (8, 'loriginalite'): 0.09840367687838873, (8, 'maintenant'): 0.06890805217371022, (8, 'mavait'): 0.08365586452604948, (8, 'mettre'): 0.06416031703936532, (8, 'moins'): 0.06890805217371022, (8, 'mois'): 0.11071921630136848, (8, 'netflix'): 0.01694322163393992, (8, 'neuf'): 0.06028113497991949, (8, 'parce'): 0.08365586452604948, (8, 'plus'): 0.03362660373533719, (8, 'poubelle'): 0.09840367687838873, (8, 'pouvoir'): 0.039412427469031695, (8, 'qualite'): 0.10330843557225751, (8, 'quelque'): 0.057001333281467184, (8, 'reellement'): 0.09840367687838873, (8, 'resilier'): 0.08365586452604948, (8, 'router'): 0.09840367687838873, (8, 'sattendre'): 0.09840367687838873, (8, 'serie'): 0.021008226671444367, (8, 'si'): 0.045533322627580225, (8, 'six'): 0.07502894733225876, (8, 'tarif'): 0.06416031703936532, (8, 'tenue'): 0.09840367687838873, (8, 'tout'): 0.026759084751016956, (8, 'venir'): 0.09840367687838873, (9, 'alors'): 0.15740074133645646, (9, 'billet'): 0.2569429340713484, (9, 'effort'): 0.1959089180342312, (9, 'etrange'): 0.2569429340713484, (9, 'film'): 0.10970962817309836, (9, 'français'): 0.10649570067678116, (9, 'marr'): 0.2569429340713484, (9, 'mauvais'): 0.2569429340713484, (9, 'merci'): 0.1799265806757989, (9, 'monopoly'): 0.2569429340713484, (9, 'netflix'): 0.044240634266398675, (9, 'payons'): 0.2569429340713484, (9, 'qualite'): 0.13487490199711397, (9, 'sous'): 0.16752971671389835, (9, 'souvent'): 0.16752971671389835, (9, 'svp'): 0.2569429340713484, (9, 'titre'): 0.1959089180342312, (10, 'an'): 0.21212760596703623, (10, 'ceci'): 0.1284714670356742, (10, 'cela'): 0.06451077000806181, (10, 'desabonnement'): 0.1284714670356742, (10, 'devoir'): 0.08996329033789945, (10, 'dire'): 0.07441840733969327, (10, 'douze'): 0.1959089180342312, (10, 'enfant'): 0.1799265806757989, (10, 'entre'): 0.1284714670356742, (10, 'femme'): 0.1284714670356742, (10, 'film'): 0.05485481408654918, (10, 'franchement'): 0.08376485835694918, (10, 'homme'): 0.1284714670356742, (10, 'humanitaire'): 0.1284714670356742, (10, 'lui'): 0.1284714670356742, (10, 'maid'): 0.1284714670356742, (10, 'mer'): 0.1284714670356742, (10, 'partir'): 0.2569429340713484, (10, 'pouvoir'): 0.051455113640124714, (10, 'protege'): 0.1284714670356742, (10, 'regarder'): 0.1103286379816118, (10, 'scene'): 0.08996329033789945, (10, 'seize'): 0.10921737868678683, (10, 'sembrasser'): 0.1284714670356742, (10, 'sexuel'): 0.1284714670356742, (10, 'social'): 0.1284714670356742, (10, 'sordide'): 0.1284714670356742, (10, 'total'): 0.1284714670356742, (10, 'trouve'): 0.08376485835694918, (11, 'an'): 0.06879814247579555, (11, 'aucun'): 0.06019128487799731, (11, 'avant'): 0.08753185005849677, (11, 'bidon'): 0.12499926522389922, (11, 'bien'): 0.04541983335453596, (11, 'cest'): 0.04145757729529609, (11, 'contenir'): 0.09530704120584221, (11, 'dejer'): 0.12499926522389922, (11, 'demi'): 0.12499926522389922, (11, 'diffus'): 0.12499926522389922, (11, 'enrichir'): 0.12499926522389922, (11, 'films'): 0.09530704120584221, (11, 'flash'): 0.12499926522389922, (11, 'lucifer'): 0.106265557641198, (11, 'manque'): 0.12499926522389922, (11, 'mettre'): 0.08150094326622083, (11, 'netflix'): 0.043044941448387906, (11, 'ni'): 0.106265557641198, (11, 'note'): 0.12499926522389922, (11, 'nul'): 0.06879814247579555, (11, 'payer'): 0.20639442742738662, (11, 'pendant'): 0.08753185005849677, (11, 'repay'): 0.12499926522389922, (11, 'rien'): 0.057839626040439754, (11, 'serie'): 0.026686125771834737, (11, 'souvent'): 0.08150094326622083, (11, 'tv'): 0.19061408241168443, (11, 'vingt'): 0.12499926522389922, (11, 'voir'): 0.0627672356835196, (11, 'vraiment'): 0.18057385463399195, (11, 'zero'): 0.12499926522389922, (12, 'abonnement'): 0.24823943545862656, (12, 'augmente'): 0.40483480652054754, (12, 'bien'): 0.21006672926472883, (12, 'ennuyer'): 0.4914782040905407, (12, 'l’'): 0.4914782040905407, (12, 'm’'): 0.4407950655770202, (12, 'prix'): 0.29029846503627815, (12, 'tres'): 0.23154801138056122, (13, 'chose'): 0.6477356904328762, (13, 'ennuyer'): 0.7863651265448652, (13, 'jamais'): 0.5666426688112433, (13, 'm’'): 0.7052721049232323, (13, 'sur'): 0.9249945626568542, (14, 'ado'): 0.07899215736986294, (14, 'bad'): 0.11280421495815295, (14, 'baisse'): 0.08600879328332102, (14, 'beaucoup'): 0.11842674321697813, (14, 'blinders'): 0.09589818616400794, (14, 'bon'): 0.050244474532261815, (14, 'breaking'): 0.11280421495815295, (14, 'catalogue'): 0.15798431473972588, (14, 'comme'): 0.059213371608489065, (14, 'contenir'): 0.08600879328332102, (14, 'cost'): 0.11280421495815295, (14, 'dark'): 0.11280421495815295, (14, 'fournir'): 0.09589818616400794, (14, 'hbo'): 0.11280421495815295, (14, 'lexcellent'): 0.11280421495815295, (14, 'low'): 0.11280421495815295, (14, 'lowcost'): 0.11280421495815295, (14, 'moins'): 0.07899215736986294, (14, 'mois'): 0.08461468562868812, (14, 'narco'): 0.11280421495815295, (14, 'netflix'): 0.019422717482809174, (14, 'noye'): 0.11280421495815295, (14, 'outlander'): 0.09589818616400794, (14, 'ozark'): 0.11280421495815295, (14, 'part'): 0.069102764489176, (14, 'peaky'): 0.09589818616400794, (14, 'plateforme'): 0.08600879328332102, (14, 'prefere'): 0.09589818616400794, (14, 'qualite'): 0.11842674321697813, (14, 'serie'): 0.07224780391886965, (14, 'sous'): 0.07354963172805294, (14, 'tendre'): 0.11280421495815295, (14, 'tres'): 0.045180099781572926, (14, 'trop'): 0.059213371608489065, (14, 'vers'): 0.11280421495815295, (15, 'attendre'): 0.6166630417712361, (15, 'autant'): 0.23509070164107743, (15, 'bref'): 0.21591189681095868, (15, 'chaque'): 0.23509070164107743, (15, 'dessus'): 0.30833152088561805, (15, 'gratuitement'): 0.2621217088482884, (15, 'mois'): 0.11564007035920709, (15, 'payer'): 0.169702084773629, (15, 'plein'): 0.2621217088482884, (15, 'saison'): 0.18888088960374774, (15, 'serie'): 0.06582577690385902, (15, 'telecharger'): 0.30833152088561805, (15, 'toujours'): 0.40207132011335606, (16, 'abonnement'): 0.1654929569724177, (16, 'coup'): 0.2698898710136983, (16, 'fimille'): 0.3854144011070225, (16, 'netflix'): 0.06636095139959801, (16, 'personne'): 0.3276521360603605, (16, 'prefer'): 0.3854144011070225, (16, 'profite'): 0.3854144011070225, (16, 'quatre'): 0.2512945750708475, (16, 'streaming'): 0.2512945750708475, (16, 'tout'): 0.1048064152748164, (16, 'valoir'): 0.2938633770513468, (16, 'vraiment'): 0.1855897950404917, (17, '-'): 0.11233787522069502, (17, 'atteindre'): 0.13214208037955058, (17, 'augmentation'): 0.10075315784617604, (17, 'augmente'): 0.09253367006183943, (17, 'augmententation'): 0.13214208037955058, (17, 'augmenter'): 0.11233787522069502, (17, 'catalogu'): 0.09253367006183943, (17, 'catalogue'): 0.09253367006183943, (17, 'celui'): 0.09253367006183943, (17, 'cinq'): 0.10075315784617604, (17, 'documentaire'): 0.08615814002429059, (17, 'doublage'): 0.22467575044139004, (17, 'douze'): 0.10075315784617604, (17, 'effort'): 0.10075315784617604, (17, 'faire'): 0.04654972970657943, (17, 'français'): 0.10953843498183205, (17, 'labonnement'): 0.09253367006183943, (17, 'lieu'): 0.13214208037955058, (17, 'netflix'): 0.04550465238829578, (17, 'neuf'): 0.08094895268732046, (17, 'onze'): 0.11233787522069502, (17, 'prix'): 0.066353934865435, (17, 'quarante'): 0.11233787522069502, (17, 'quatre-vingt-dix-neuf'): 0.11233787522069502, (17, 'reste'): 0.08615814002429059, (17, 'serieux'): 0.11233787522069502, (17, 'si'): 0.061144747528464875, (17, 'surtout'): 0.1454589298059677, (17, 'tarif'): 0.17231628004858118, (17, 'treize'): 0.11233787522069502, (18, '2ans'): 0.1491926713962668, (18, 'abandonne'): 0.1491926713962668, (18, 'augmentation'): 0.11375356531019876, (18, 'beaucoup'): 0.07831445922413069, (18, 'bon'): 0.06645236954266885, (18, 'cerise'): 0.1491926713962668, (18, 'comme'): 0.15662891844826138, (18, 'droit'): 0.1491926713962668, (18, 'film'): 0.031851182372835005, (18, 'français'): 0.061836213296195514, (18, 'gateau'): 0.1491926713962668, (18, 'historique'): 0.1491926713962668, (18, 'labonnement'): 0.10447349845691549, (18, 'limagination'): 0.1491926713962668, (18, 'netflix'): 0.025688110219199232, (18, 'nouveaute'): 0.0749157329125879, (18, 'plus'): 0.10196454035876439, (18, 'presenter'): 0.1491926713962668, (18, 'proche'): 0.1491926713962668, (18, 'propagandiste'): 0.1491926713962668, (18, 'puis'): 0.12683308492659115, (18, 'quelque'): 0.08642137626545024, (18, 'recit'): 0.1491926713962668, (18, 'serie'): 0.031851182372835005, (18, 'sortir'): 0.11375356531019876, (18, 'suite'): 0.0913939788405231, (18, 'tout'): 0.040570225267670866, (18, 'traduction'): 0.12683308492659115, (18, 'vieux'): 0.08211391198723983, (19, 'bien'): 0.30555160620324195, (19, 'competitif'): 0.4204520739349337, (19, 'contenu'): 0.2741395364409246, (19, 'labonnement'): 0.2944253138331255, (19, 'nouveau'): 0.257564849459656, (19, 'prix'): 0.21112615639002047, (19, 'publier'): 0.4204520739349337, (19, 'reste'): 0.2741395364409246, (19, 'souvent'): 0.2741395364409246, (19, 'terme'): 0.4204520739349337, (20, 'aucun'): 0.09279489752024585, (20, 'bien'): 0.07002224308824294, (20, 'bleu'): 0.19270720055351126, (20, 'box'): 0.19270720055351126, (20, 'car'): 0.10606380298351811, (20, 'carte'): 0.19270720055351126, (20, 'clic'): 0.19270720055351126, (20, 'dannuler'): 0.19270720055351126, (20, 'demandee'): 0.19270720055351126, (20, 'facture'): 0.1469316885256734, (20, 'foulee'): 0.19270720055351126, (20, 'impossible'): 0.12564728753542376, (20, 'labonnement'): 0.2698898710136983, (20, 'nest'): 0.1116276110095399, (20, 'nimporte'): 0.3854144011070225, (20, 'pouvoir'): 0.07718267046018706, (20, 'quoi'): 0.1469316885256734, (20, 'sabonner'): 0.19270720055351126, (20, 'sajoute'): 0.19270720055351126, (20, 'scandaleux'): 0.16382606803018024, (20, 'seulement'): 0.19270720055351126, (20, 'tele'): 0.19270720055351126, (21, 'assez'): 0.20103566005667803, (21, 'contenu'): 0.40207132011335606, (21, 'debarque'): 0.30833152088561805, (21, 'film'): 0.06582577690385902, (21, 'flix'): 0.30833152088561805, (21, 'francophone'): 0.2621217088482884, (21, 'nest'): 0.17860417761526384, (21, 'niet'): 0.30833152088561805, (21, 'ordinaire'): 0.30833152088561805, (21, 'present'): 0.2621217088482884, (21, 'prix'): 0.15482584801934834, (21, 'riche'): 0.2621217088482884, (21, 'serie'): 0.06582577690385902, (21, 'vieux'): 0.169702084773629, (22, 'ancien'): 0.21591189681095868, (22, 'cetait'): 0.30833152088561805, (22, 'chemin'): 0.30833152088561805, (22, 'client'): 0.17860417761526384, (22, 'concurrence'): 0.2621217088482884, (22, 'etre'): 0.18888088960374774, (22, 'laugmentation'): 0.40207132011335606, (22, 'maintenant'): 0.43182379362191736, (22, 'montre'): 0.30833152088561805, (22, 'netflix'): 0.05308876111967841, (22, 'pouvoir'): 0.12349227273629931, (22, 'trop'): 0.32369976479307355, (23, 'absolument'): 0.2621217088482884, (23, 'augmenter'): 0.2621217088482884, (23, 'baisse'): 0.23509070164107743, (23, 'cest'): 0.20452404799012736, (23, 'concevable'): 0.30833152088561805, (23, 'dinteresser'): 0.2621217088482884, (23, 'injustifie'): 0.30833152088561805, (23, 'nouveaute'): 0.15482584801934834, (23, 'ny'): 0.17860417761526384, (23, 'plus'): 0.1053633583707232, (23, 'prix'): 0.15482584801934834, (23, 'rien'): 0.14267107756641806, (23, 'service'): 0.17860417761526384, (23, 'voir'): 0.15482584801934834, (24, 'laugmentation'): 1.00517830028339, (24, 'marre'): 1.310608544241442, (24, 'prix'): 0.7741292400967417, (25, 'daugmenter'): 0.9249945626568542, (25, 'faire'): 0.325848107946056, (25, 'hier'): 0.7863651265448652, (25, 'netflix'): 0.15926628335903525, (25, 'prix'): 0.4644775440580451, (26, '2em'): 0.09068574143694648, (26, 'abonnement'): 0.0389395192876277, (26, 'agreablement'): 0.09068574143694648, (26, 'aller'): 0.04553701412333775, (26, 'annuler'): 0.09068574143694648, (26, 'avoir'): 0.055553202824631685, (26, 'beaucoup'): 0.0952058131744334, (26, 'ce'): 0.0525306404750776, (26, 'cela'): 0.0910740282466755, (26, 'client'): 0.0525306404750776, (26, 'comme'): 0.0476029065872167, (26, 'compagnie'): 0.09068574143694648, (26, 'confinement'): 0.18137148287389296, (26, 'continuer'): 0.07709462024949658, (26, 'croire'): 0.09068574143694648, (26, 'depuis'): 0.0476029065872167, (26, 'dinteresser'): 0.07709462024949658, (26, 'durant'): 0.09068574143694648, (26, 'effort'): 0.06914432401208159, (26, 'ete'): 0.06914432401208159, (26, 'etranger'): 0.09068574143694648, (26, 'faire'): 0.03194589293588784, (26, 'falloir'): 0.06350349906204668, (26, 'film'): 0.038721045237564124, (26, 'français'): 0.037586717885922764, (26, 'honnetement'): 0.09068574143694648, (26, 'interet'): 0.09068574143694648, (26, 'jer'): 0.06914432401208159, (26, 'moins'): 0.06350349906204668, (26, 'mois'): 0.03401178539976679, (26, 'netflix'): 0.015614341505787768, (26, 'ni'): 0.07709462024949658, (26, 'nouveau'): 0.055553202824631685, (26, 'pense'): 0.06350349906204668, (26, 'perdre'): 0.07709462024949658, (26, 'plateforme'): 0.06914432401208159, (26, 'plus'): 0.06197844610042542, (26, 'quatre'): 0.05912813531078766, (26, 'quils'): 0.06350349906204668, (26, 'regarde'): 0.0525306404750776, (26, 'rien'): 0.04196208163718178, (26, 'sans'): 0.06350349906204668, (26, 'serie'): 0.019360522618782062, (26, 'seul'): 0.06914432401208159, (26, 'sils'): 0.09068574143694648, (26, 'tenir'): 0.07709462024949658, (27, 'ado'): 0.037226189105337704, (27, 'adulte'): 0.05316060704924449, (27, 'adventure'): 0.05316060704924449, (27, 'alors'): 0.032565670621335814, (27, 'arrietty'): 0.05316060704924449, (27, 'bi'): 0.0451933980772911, (27, 'bien'): 0.038632961703858174, (27, 'bon'): 0.07103529158009429, (27, 'case'): 0.05316060704924449, (27, 'centaurworld'): 0.05316060704924449, (27, 'cependant'): 0.05316060704924449, (27, 'cocher'): 0.05316060704924449, (27, 'concerne'): 0.0451933980772911, (27, 'danimation'): 0.05316060704924449, (27, 'dautre'): 0.0451933980772911, (27, 'dragon'): 0.05316060704924449, (27, 'enfant'): 0.037226189105337704, (27, 'entendre'): 0.05316060704924449, (27, 'esprit'): 0.05316060704924449, (27, 'faire'): 0.05618070826656138, (27, 'falloir'): 0.037226189105337704, (27, 'film'): 0.011349271879975692, (27, 'ghibli'): 0.05316060704924449, (27, 'grand'): 0.04053287959328921, (27, 'groupe'): 0.05316060704924449, (27, 'haunting'): 0.05316060704924449, (27, 'hilda'): 0.05316060704924449, (27, 'hill'): 0.05316060704924449, (27, 'homo'): 0.05316060704924449, (27, 'house'): 0.05316060704924449, (27, 'incoherent'): 0.05316060704924449, (27, 'insipide'): 0.0451933980772911, (27, 'interessees'): 0.05316060704924449, (27, 'justifier'): 0.0451933980772911, (27, 'lhistoire'): 0.05316060704924449, (27, 'limpression'): 0.0451933980772911, (27, 'majorite'): 0.0451933980772911, (27, 'mal'): 0.0451933980772911, (27, 'mont'): 0.04053287959328921, (27, 'morale'): 0.05316060704924449, (27, 'napportent'): 0.05316060704924449, (27, 'netflix'): 0.009153234675806622, (27, 'of'): 0.0451933980772911, (27, 'parfois'): 0.05316060704924449, (27, 'partie'): 0.05316060704924449, (27, 'pepite'): 0.0451933980772911, (27, 'personne'): 0.0451933980772911, (27, 'petit'): 0.0451933980772911, (27, 'pouvoir'): 0.021291771161430915, (27, 'previsibl'): 0.05316060704924449, (27, 'princ'): 0.0451933980772911, (27, 'programme'): 0.037226189105337704, (27, 'quelque'): 0.06158764745353926, (27, 'quils'): 0.037226189105337704, (27, 'racisee'): 0.05316060704924449, (27, 'reasons'): 0.05316060704924449, (27, 'reste'): 0.0693226413988545, (27, 'rien'): 0.02459846164938242, (27, 'scenario'): 0.05316060704924449, (27, 'scene'): 0.037226189105337704, (27, 'serie'): 0.022698543759951385, (27, 'sex'): 0.0451933980772911, (27, 'souher'): 0.05316060704924449, (27, 'steven'): 0.05316060704924449, (27, 'stranger'): 0.05316060704924449, (27, 'studio'): 0.05316060704924449, (27, 'things'): 0.0451933980772911, (27, 'time'): 0.05316060704924449, (27, 'tout'): 0.014456057279285022, (27, 'trans'): 0.05316060704924449, (27, 'treize'): 0.0451933980772911, (27, 'tri'): 0.05316060704924449, (27, 'trouver'): 0.037226189105337704, (27, 'universe'): 0.05316060704924449, (27, 'voir'): 0.02669411172747385, (27, 'voyager'): 0.05316060704924449, (27, 'vrai'): 0.05316060704924449, (27, 'vraiment'): 0.025598592419378167, (27, 'why'): 0.05316060704924449, (28, 'constate'): 0.27205722431083945, (28, 'faire'): 0.19167535761532706, (28, 'film'): 0.05808156785634619, (28, 'fou'): 0.27205722431083945, (28, 'français'): 0.1127601536577683, (28, 'langue'): 0.2074329720362448, (28, 'najoute'): 0.27205722431083945, (28, 'netflix'): 0.0468430245173633, (28, 'prendre'): 0.1575919214252328, (28, 'serie'): 0.05808156785634619, (28, 'suffisamment'): 0.27205722431083945, (28, 'surtout'): 0.1497371336237903, (28, 'temps'): 0.19051049718614002, (28, 'tour'): 0.2074329720362448, (28, 'traduction'): 0.23128386074848975, (28, 'vite'): 0.23128386074848975, (29, 'appli'): 0.35576713948340544, (29, 'disponible'): 0.30244812559417894, (29, 'diversifie'): 0.35576713948340544, (29, 'facile'): 0.30244812559417894, (29, 'fluide'): 0.35576713948340544, (29, 'offrir'): 0.30244812559417894, (29, 'parfait'): 0.35576713948340544, (29, 'programme'): 0.24912911170495233, (29, 'recommande'): 0.2712585018935509, (29, 'riche'): 0.30244812559417894, (29, 'tout'): 0.09674438333059977, (29, 'utiliser'): 0.35576713948340544, (29, 'vo'): 0.30244812559417894, (30, 'acteur'): 0.17094894055323154, (30, 'autre'): 0.13111021308044218, (30, 'bi'): 0.17094894055323154, (30, 'bon'): 0.0895662372096841, (30, 'convaincant'): 0.20108577449062046, (30, 'cuisine'): 0.20108577449062046, (30, 'deux'): 0.10097337914305327, (30, 'douche'): 0.20108577449062046, (30, 'fatiguee'): 0.20108577449062046, (30, 'hetero'): 0.20108577449062046, (30, 'heure'): 0.17094894055323154, (30, 'histoire'): 0.20108577449062046, (30, 'ilot'): 0.20108577449062046, (30, 'plan'): 0.17094894055323154, (30, 'quart'): 0.20108577449062046, (30, 'saouler'): 0.20108577449062046, (30, 'scene'): 0.14081210661584262, (30, 'serie'): 0.04292985450251675, (30, 'sex'): 0.17094894055323154, (30, 'sofa'): 0.20108577449062046, (30, 'souvent'): 0.13111021308044218, (30, 'tout'): 0.054681607969469435, (30, 'trois'): 0.13111021308044218, (31, 'americain'): 0.08894178487085136, (31, 'ami'): 0.08894178487085136, (31, 'an'): 0.048952524453931445, (31, 'annee'): 0.07561203139854474, (31, 'apprendre'): 0.07561203139854474, (31, 'car'): 0.048952524453931445, (31, 'carriere'): 0.08894178487085136, (31, 'cent'): 0.06781462547338772, (31, 'chaque'): 0.13562925094677544, (31, 'coutume'): 0.08894178487085136, (31, 'culture'): 0.08894178487085136, (31, 'debut'): 0.07561203139854474, (31, 'decrit'): 0.08894178487085136, (31, 'divers'): 0.08894178487085136, (31, 'dix'): 0.07561203139854474, (31, 'episode'): 0.06228227792623808, (31, 'familial'): 0.08894178487085136, (31, 'friends'): 0.08894178487085136, (31, 'inclure'): 0.08894178487085136, (31, 'interpersonnel'): 0.08894178487085136, (31, 'jai'): 0.048952524453931445, (31, 'jaime'): 0.06228227792623808, (31, 'jeunesse'): 0.08894178487085136, (31, 'jour'): 0.057991055785580205, (31, 'lamiti'): 0.08894178487085136, (31, 'lamour'): 0.08894178487085136, (31, 'maccompagner'): 0.08894178487085136, (31, 'maccompagnerer'): 0.08894178487085136, (31, 'mille'): 0.06228227792623808, (31, 'netflix'): 0.015314065707599543, (31, 'neuf'): 0.05448487200108108, (31, 'nombreux'): 0.07561203139854474, (31, 'nouveau'): 0.05448487200108108, (31, 'nuit'): 0.08894178487085136, (31, 'plan'): 0.07561203139854474, (31, 'probleme'): 0.06228227792623808, (31, 'quatre-vingt-dix'): 0.07561203139854474, (31, 'quotidien'): 0.08894178487085136, (31, 'regarde'): 0.05152043585055688, (31, 'regarder'): 0.03819068237825024, (31, 'relation'): 0.17788356974170272, (31, 'resoudre'): 0.08894178487085136, (31, 'saison'): 0.05448487200108108, (31, 'siecle'): 0.08894178487085136, (31, 'societe'): 0.08894178487085136, (31, 'spectacle'): 0.08894178487085136, (31, 'travail'): 0.08894178487085136, (31, 'travers'): 0.08894178487085136, (31, 'verite'): 0.08894178487085136, (31, 'vie'): 0.08894178487085136, (32, 'aller'): 0.08932260462654713, (32, 'beaucoup'): 0.09337493215184814, (32, 'bon'): 0.07923167137779748, (32, 'covid'): 0.17788356974170272, (32, 'devoir'): 0.12456455585247617, (32, 'dix-neuf'): 0.17788356974170272, (32, 'film'): 0.03797640975222636, (32, 'forme'): 0.13562925094677544, (32, 'jaime'): 0.12456455585247617, (32, 'jour'): 0.11598211157116041, (32, 'lepidemie'): 0.17788356974170272, (32, 'maison'): 0.35576713948340544, (32, 'misoler'): 0.17788356974170272, (32, 'plate'): 0.15122406279708947, (32, 'raison'): 0.13562925094677544, (32, 'regarder'): 0.07638136475650048, (32, 'serie'): 0.07595281950445272, (32, 'televisees'): 0.30244812559417894, (32, 'tot'): 0.17788356974170272, (32, 'tout'): 0.048372191665299887, (32, 'travailler'): 0.17788356974170272, (32, 'tres'): 0.07124554196324961, (32, 'vouloir'): 0.10304087170111376, (33, 'abonnee'): 0.3854144011070225, (33, 'an'): 0.21212760596703623, (33, 'content'): 0.3276521360603605, (33, 'depuis'): 0.20231235299567096, (33, 'deux'): 0.19353231002418542, (33, 'film'): 0.08228222112982377, (33, 'jen'): 0.2938633770513468, (33, 'lheure'): 0.3854144011070225, (33, 'mettre'): 0.2512945750708475, (33, 'pub'): 0.3854144011070225, (33, 'quon'): 0.3854144011070225, (33, 'vouloir'): 0.2232552220190798, (34, 'avis'): 0.4914782040905407, (34, 'comprendre'): 0.354151668007027, (34, 'dire'): 0.3348828330286197, (34, 'excellent'): 0.8096696130410951, (34, 'negatif'): 0.4914782040905407, (34, 'netflix'): 0.09954142709939702, (34, 'rien'): 0.26750827043703385, (35, 'accessible'): 0.08894178487085136, (35, 'allemand'): 0.17788356974170272, (35, 'ancien'): 0.06228227792623808, (35, 'anglais'): 0.12456455585247617, (35, 'arrive'): 0.07561203139854474, (35, 'basique'): 0.08894178487085136, (35, 'bien'): 0.03231795834841982, (35, 'car'): 0.048952524453931445, (35, 'chercher'): 0.06781462547338772, (35, 'chinois'): 0.08894178487085136, (35, 'dernier'): 0.07561203139854474, (35, 'ecouter'): 0.08894178487085136, (35, 'espagnol'): 0.17788356974170272, (35, 'exemple'): 0.06781462547338772, (35, 'film'): 0.03797640975222636, (35, 'francophone'): 0.15122406279708947, (35, 'français'): 0.03686389638811656, (35, 'inadmissible'): 0.08894178487085136, (35, 'jabandonne'): 0.08894178487085136, (35, 'jhabite'): 0.08894178487085136, (35, 'langue'): 0.06781462547338772, (35, 'lerreur'): 0.08894178487085136, (35, 'lide'): 0.08894178487085136, (35, 'maternel'): 0.08894178487085136, (35, 'meme'): 0.10304087170111376, (35, 'nest'): 0.05152043585055688, (35, 'officiellement'): 0.08894178487085136, (35, 'outlander'): 0.07561203139854474, (35, 'polonais'): 0.08894178487085136, (35, 'portugais'): 0.06781462547338772, (35, 'pouvoir'): 0.03562277098162481, (35, 'propose'): 0.06781462547338772, (35, 'province'): 0.08894178487085136, (35, 'quebec'): 0.08894178487085136, (35, 'regarder'): 0.03819068237825024, (35, 'saison'): 0.05448487200108108, (35, 'selectionne'): 0.08894178487085136, (35, 'seri'): 0.06228227792623808, (35, 'serie'): 0.01898820487611318, (35, 'sous'): 0.11598211157116041, (35, 'souvent'): 0.057991055785580205, (35, 'titrage'): 0.17788356974170272, (35, 'trop'): 0.04668746607592407, (35, 'trouve'): 0.057991055785580205, (36, 'aucun'): 0.11135387702429503, (36, 'avantage'): 0.23124864066421355, (36, 'canal'): 0.17631802623080808, (36, 'car'): 0.12727656358022174, (36, 'client'): 0.1339531332114479, (36, 'deçu'): 0.15077674504250854, (36, 'encore'): 0.1965912816362163, (36, 'garder'): 0.23124864066421355, (36, 'mieux'): 0.1965912816362163, (36, 'netflix'): 0.039816570839758814, (36, 'nouveautes'): 0.23124864066421355, (36, 'pense'): 0.16193392260821904, (36, 'perdre'): 0.1965912816362163, (36, 'peu'): 0.11135387702429503, (36, 'propose'): 0.17631802623080808, (36, 'temps'): 0.16193392260821904, (36, 'tres'): 0.185238409104449, (36, 'valoir'): 0.17631802623080808, (36, 'vieillerie'): 0.23124864066421355, (37, 'absence'): 0.15948182114773346, (37, 'aimee'): 0.15948182114773346, (37, 'amicalement'): 0.15948182114773346, (37, 'ancien'): 0.11167856731601311, (37, 'annule'): 0.13558019423187329, (37, 'aucun'): 0.0767957772581345, (37, 'bien'): 0.05794944255578726, (37, 'botte'): 0.15948182114773346, (37, 'bref'): 0.11167856731601311, (37, 'cent'): 0.12159863877986764, (37, 'chapeau'): 0.15948182114773346, (37, 'columbo'): 0.15948182114773346, (37, 'cosmo'): 0.15948182114773346, (37, 'cuir'): 0.15948182114773346, (37, 'culte'): 0.15948182114773346, (37, 'heureusement'): 0.13558019423187329, (37, 'jai'): 0.08777694040015292, (37, 'jen'): 0.12159863877986764, (37, 'melon'): 0.15948182114773346, (37, 'mille'): 0.11167856731601311, (37, 'neuf'): 0.09769701186400745, (37, 'oublier'): 0.13558019423187329, (37, 'prisonnier'): 0.15948182114773346, (37, 'quatre-vingt-dix-neuf'): 0.13558019423187329, (37, 'renouvelement'): 0.15948182114773346, (37, 'serie'): 0.06809563127985416, (37, 'sorcier'): 0.15948182114773346, (37, 'suivant'): 0.15948182114773346, (38, 'abonnement'): 0.030552545902600193, (38, 'affaire'): 0.0711534278966811, (38, 'ailleurs'): 0.06048962511883579, (38, 'an'): 0.039162019563145155, (38, 'atlantique'): 0.0711534278966811, (38, 'baisse'): 0.10850340075742036, (38, 'bcp'): 0.1423068557933622, (38, 'canal'): 0.10850340075742036, (38, 'ce'): 0.041216348680445505, (38, 'cest'): 0.02359892861424547, (38, 'chez'): 0.09965164468198094, (38, 'chose'): 0.04982582234099047, (38, 'criminel'): 0.0711534278966811, (38, 'depuis'): 0.03734997286073926, (38, 'detective'): 0.0711534278966811, (38, 'divertissant'): 0.0711534278966811, (38, 'dun'): 0.06048962511883579, (38, 'enchantee'): 0.0711534278966811, (38, 'ete'): 0.05425170037871018, (38, 'ex'): 0.0711534278966811, (38, 'fournir'): 0.12097925023767157, (38, 'francai'): 0.0711534278966811, (38, 'français'): 0.029491117110493247, (38, 'garde'): 0.0711534278966811, (38, 'grotesque'): 0.0711534278966811, (38, 'interessante'): 0.06048962511883579, (38, 'jai'): 0.039162019563145155, (38, 'javais'): 0.05425170037871018, (38, 'langlai'): 0.0711534278966811, (38, 'lespagnol'): 0.0711534278966811, (38, 'manqu'): 0.09278568925692833, (38, 'moins'): 0.1494774670229714, (38, 'narnards'): 0.0711534278966811, (38, 'naurais'): 0.0711534278966811, (38, 'netait'): 0.0711534278966811, (38, 'netflix'): 0.024502505132159267, (38, 'offre'): 0.0711534278966811, (38, 'outre'): 0.0711534278966811, (38, 'passionnee'): 0.0711534278966811, (38, 'peu'): 0.03426273139209078, (38, 'planete'): 0.0711534278966811, (38, 'portugais'): 0.05425170037871018, (38, 'pouvoir'): 0.028498216785299842, (38, 'programme'): 0.09965164468198094, (38, 'qualite'): 0.07469994572147852, (38, 'real'): 0.0711534278966811, (38, 'regrette'): 0.0711534278966811, (38, 'sil'): 0.0711534278966811, (38, 'trouve'): 0.046392844628464165, (38, 'turc'): 0.0711534278966811, (38, 'vf'): 0.0711534278966811, (38, 'via'): 0.0711534278966811, (38, 'voir'): 0.03572904185061885, (38, 'volonte'): 0.0711534278966811, (39, 'beaucoup'): 0.24277482359480518, (39, 'contenu'): 0.3015534900850171, (39, 'game'): 0.4624972813284271, (39, 'genial'): 0.3015534900850171, (39, 'jaime'): 0.3238678452164381, (39, 'of'): 0.3931825632724326, (39, 'serie'): 0.09873866535578853, (39, 'supernatural'): 0.4624972813284271, (39, 'troner'): 0.4624972813284271, (39, 'vouloir'): 0.2679062664228958, (40, 'air'): 0.21022603696746686, (40, 'autant'): 0.16028911475528007, (40, 'avoir'): 0.128782424729828, (40, 'beaucoup'): 0.11035219254309325, (40, 'bel'): 0.21022603696746686, (40, 'belgiqu'): 0.1787193469420148, (40, 'comprendre'): 0.128782424729828, (40, 'c’'): 0.1787193469420148, (40, 'disney'): 0.1787193469420148, (40, 'interessant'): 0.1370697682204623, (40, 'netflix'): 0.07239376516319783, (40, 'plus'): 0.215515960303752, (40, 'pourquoi'): 0.1370697682204623, (40, 'pourrir'): 0.21022603696746686, (40, 'princ'): 0.1787193469420148, (40, 'retire'): 0.21022603696746686, (40, 'rien'): 0.09727573470437595, (40, 'vraiment'): 0.10123079729481366, (40, 'être'): 0.1787193469420148, (41, '4k'): 0.12499926522389922, (41, 'absolument'): 0.106265557641198, (41, 'ado'): 0.043765925029248386, (41, 'adsl'): 0.06249963261194961, (41, 'amplement'): 0.06249963261194961, (41, 'attent'): 0.12499926522389922, (41, 'beneficie'): 0.06249963261194961, (41, 'beneficier'): 0.06249963261194961, (41, 'bien'): 0.02270991667726798, (41, 'cas'): 0.06249963261194961, (41, 'chez'): 0.043765925029248386, (41, 'classique'): 0.06249963261194961, (41, 'connecter'): 0.06249963261194961, (41, 'correct'): 0.12499926522389922, (41, 'correspondre'): 0.12499926522389922, (41, 'craignai'): 0.06249963261194961, (41, 'debit'): 0.06249963261194961, (41, 'decennie'): 0.06249963261194961, (41, 'decer'): 0.06249963261194961, (41, 'depuis'): 0.03280740859389259, (41, 'deux'): 0.0627672356835196, (41, 'diffuser'): 0.053132778820599, (41, 'douze'): 0.04765352060292111, (41, 'dune'): 0.06249963261194961, (41, 'egalement'): 0.06249963261194961, (41, 'equipe'): 0.06249963261194961, (41, 'etre'): 0.03828666681157049, (41, 'euro'): 0.043765925029248386, (41, 'faible'): 0.06249963261194961, (41, 'faille'): 0.06249963261194961, (41, 'fibre'): 0.053132778820599, (41, 'flux'): 0.06249963261194961, (41, 'forfait'): 0.06249963261194961, (41, 'hd'): 0.08753185005849677, (41, 'jutilise'): 0.06249963261194961, (41, 'lhd'): 0.06249963261194961, (41, 'ligne'): 0.06249963261194961, (41, 'livebox'): 0.06249963261194961, (41, 'loffre'): 0.106265557641198, (41, 'meme'): 0.036203549516607536, (41, 'nest'): 0.036203549516607536, (41, 'netflix'): 0.043044941448387906, (41, 'offrir'): 0.106265557641198, (41, 'orange'): 0.06249963261194961, (41, 'parfaitement'): 0.06249963261194961, (41, 'plus'): 0.02135743750757903, (41, 'pouvoir'): 0.05006443489309432, (41, 'prestation'): 0.06249963261194961, (41, 'quil'): 0.043765925029248386, (41, 'raisonnable'): 0.06249963261194961, (41, 'ravir'): 0.04765352060292111, (41, 'relativement'): 0.06249963261194961, (41, 'smart'): 0.06249963261194961, (41, 'standard'): 0.053132778820599, (41, 'suffire'): 0.06249963261194961, (41, 'tarif'): 0.08150094326622083, (41, 'televiseur'): 0.06249963261194961, (41, 'temps'): 0.043765925029248386, (41, 'tv'): 0.04765352060292111, (41, 'wifi'): 0.06249963261194961, (42, 'adore'): 0.12159863877986764, (42, 'apporte'): 0.15948182114773346, (42, 'aussi'): 0.11167856731601311, (42, 'bravo'): 0.15948182114773346, (42, 'cest'): 0.05289415034227432, (42, 'content'): 0.13558019423187329, (42, 'coreenner'): 0.15948182114773346, (42, 'couper'): 0.13558019423187329, (42, 'dire'): 0.18476294236061777, (42, 'fille'): 0.15948182114773346, (42, 'forme'): 0.12159863877986764, (42, 'franchement'): 0.10398396209828174, (42, 'genial'): 0.10398396209828174, (42, 'mari'): 0.15948182114773346, (42, 'moment'): 0.15948182114773346, (42, 'netflix'): 0.0823791120822596, (42, 'nouveaute'): 0.08008233518242155, (42, 'plate'): 0.13558019423187329, (42, 'regal'): 0.15948182114773346, (42, 'serie'): 0.03404781563992708, (42, 'souffle'): 0.15948182114773346, (42, 'superbe'): 0.3189636422954669, (42, 'tenir'): 0.27116038846374657, (42, 'toujours'): 0.10398396209828174, (43, 'accroch'): 0.1284714670356742, (43, 'annule'): 0.10921737868678683, (43, 'arrive'): 0.10921737868678683, (43, 'bemol'): 0.10921737868678683, (43, 'bon'): 0.05722287377285373, (43, 'car'): 0.07070920198901208, (43, 'certain'): 0.0979544590171156, (43, 'cest'): 0.08521835332921973, (43, 'comme'): 0.06743745099855698, (43, 'comprendre'): 0.07870037066822823, (43, 'decever'): 0.1284714670356742, (43, 'exemple'): 0.0979544590171156, (43, 'jadore'): 0.0979544590171156, (43, 'jai'): 0.07070920198901208, (43, 'meme'): 0.07441840733969327, (43, 'netflix'): 0.044240634266398675, (43, 'ny'): 0.07441840733969327, (43, 'part'): 0.07870037066822823, (43, 'plus'): 0.08780279864226934, (43, 'pourtant'): 0.1284714670356742, (43, 'quatre'): 0.08376485835694918, (43, 'regarde'): 0.07441840733969327, (43, 'saison'): 0.07870037066822823, (43, 'seri'): 0.08996329033789945, (43, 'serie'): 0.05485481408654918, (43, 'seul'): 0.0979544590171156, (43, 'shadowhunter'): 0.1284714670356742, (43, 'succe'): 0.1284714670356742, (43, 'suite'): 0.07870037066822823, (43, 'tel'): 0.10921737868678683, (43, 'tres'): 0.051455113640124714, (43, 'trois'): 0.08376485835694918, (44, 'chercher'): 0.7052721049232323, (44, 'difficile'): 0.7863651265448652, (44, 'film'): 0.19747733071157705, (44, 'manipulation'): 0.9249945626568542, (44, 'recherche'): 0.7863651265448652, (45, 'adore'): 0.35263605246161617, (45, 'bonjour'): 0.4624972813284271, (45, 'j’'): 0.4624972813284271, (45, 'poursuivre'): 0.4624972813284271, (45, 'programme'): 0.3238678452164381, (45, 'reve'): 0.4624972813284271, (45, 'savoir'): 0.3931825632724326, (45, 'si'): 0.2140066163496271, (45, 'suite'): 0.2833213344056216, (45, 'vouloir'): 0.2679062664228958, (46, 'aimer'): 0.3931825632724326, (46, 'celui'): 0.3238678452164381, (46, 'cest'): 0.15339303599259554, (46, 'genial'): 0.3015534900850171, (46, 'netfli'): 0.2833213344056216, (46, 'pays'): 0.4624972813284271, (46, 'plus'): 0.15804503755608482, (46, 'regarde'): 0.2679062664228958, (46, 'serie'): 0.09873866535578853, (46, 'tout'): 0.12576769832977971, (47, 'abandonner'): 0.17094894055323154, (47, 'alors'): 0.1231831888720094, (47, 'audience'): 0.20108577449062046, (47, 'bref'): 0.14081210661584262, (47, 'certainement'): 0.20108577449062046, (47, 'completement'): 0.20108577449062046, (47, 'davidite'): 0.20108577449062046, (47, 'dexcellenter'): 0.20108577449062046, (47, 'dirigeant'): 0.20108577449062046, (47, 'disponible'): 0.17094894055323154, (47, 'excellent'): 0.14081210661584262, (47, 'fric'): 0.20108577449062046, (47, 'inutile'): 0.17094894055323154, (47, 'leur'): 0.17094894055323154, (47, 'limage'): 0.20108577449062046, (47, 'malgre'): 0.20108577449062046, (47, 'navet'): 0.17094894055323154, (47, 'pell'): 0.20108577449062046, (47, 'raison'): 0.15332002280939833, (47, 'serie'): 0.04292985450251675, (47, 'stupide'): 0.20108577449062046, (47, 'systematiquement'): 0.20108577449062046, (47, 'taux'): 0.20108577449062046, (48, 'cent'): 0.20150631569235208, (48, 'cest'): 0.0876531634243403, (48, 'couper'): 0.11233787522069502, (48, 'deux'): 0.066353934865435, (48, 'embetent'): 0.13214208037955058, (48, 'episode'): 0.18506734012367887, (48, 'fairy'): 0.13214208037955058, (48, 'jadore'): 0.10075315784617604, (48, 'moitie'): 0.13214208037955058, (48, 'netflix'): 0.09100930477659155, (48, 'neuf'): 0.1618979053746409, (48, 'normalement'): 0.13214208037955058, (48, 'passer'): 0.08615814002429059, (48, 'prendre'): 0.07654464754939878, (48, 'quand'): 0.17231628004858118, (48, 'quatre-vingt-dix'): 0.11233787522069502, (48, 'saison'): 0.24284685806196138, (48, 'sortir'): 0.20150631569235208, (48, 'tail'): 0.13214208037955058, (48, 'termine'): 0.13214208037955058, (48, 'til'): 0.13214208037955058, (48, 'tres'): 0.052925259744128275, (48, 'trois'): 0.08615814002429059, (48, 'vingt-huit'): 0.13214208037955058, (49, 'abonnement'): 0.09929577418345063, (49, 'aujourdhui'): 0.23124864066421355, (49, 'deconseil'): 0.23124864066421355, (49, 'encore'): 0.1965912816362163, (49, 'fin'): 0.17631802623080808, (49, 'fuire'): 0.23124864066421355, (49, 'mois'): 0.08673005276940532, (49, 'netfli'): 0.1416606672028108, (49, 'netflix'): 0.039816570839758814, (49, 'neuf'): 0.1416606672028108, (49, 'obliger'): 0.17631802623080808, (49, 'payer'): 0.12727656358022174, (49, 'pourquoi'): 0.15077674504250854, (49, 'prendre'): 0.1339531332114479, (49, 'reengager'): 0.23124864066421355, (49, 'resilier'): 0.1965912816362163, (49, 'septembre'): 0.23124864066421355, (49, 'service'): 0.1339531332114479, (49, 'voleur'): 0.1965912816362163, (49, 'vouloir'): 0.1339531332114479, (50, 'abonnement'): 0.04317207573193505, (50, 'aller'): 0.05048668957152663, (50, 'aussi'): 0.07040605330792131, (50, 'bien'): 0.036533344219952836, (50, 'boseman'): 0.10054288724531023, (50, 'but'): 0.10054288724531023, (50, 'cela'): 0.05048668957152663, (50, 'celebr'): 0.10054288724531023, (50, 'celui'): 0.07040605330792131, (50, 'chadwick'): 0.10054288724531023, (50, 'connaître'): 0.08547447027661577, (50, 'consequer'): 0.10054288724531023, (50, 'deuil'): 0.10054288724531023, (50, 'devoir'): 0.07040605330792131, (50, 'documentaire'): 0.06555510654022109, (50, 'faire'): 0.035418272602832174, (50, 'film'): 0.10732463625629188, (50, 'jaime'): 0.07040605330792131, (50, 'jamais'): 0.0615915944360047, (50, 'jen'): 0.07666001140469916, (50, 'lont'): 0.10054288724531023, (50, 'mr'): 0.10054288724531023, (50, 'netflix'): 0.051934657617076704, (50, 'nont'): 0.20108577449062046, (50, 'passer'): 0.06555510654022109, (50, 'pendant'): 0.07040605330792131, (50, 'penser'): 0.08547447027661577, (50, 'permettre'): 0.10054288724531023, (50, 'prendre'): 0.05824049270062951, (50, 'propose'): 0.07666001140469916, (50, 'proposer'): 0.08547447027661577, (50, 'quil'): 0.07040605330792131, (50, 'regarder'): 0.0863441514638701, (50, 'rendre'): 0.08547447027661577, (50, 'tournage'): 0.10054288724531023, (50, 'utilisateur'): 0.10054288724531023, (50, 'vivant'): 0.10054288724531023, (50, 'vouloir'): 0.05824049270062951, (51, 'Monsieur'): 0.19270720055351126, (51, 'aberration'): 0.19270720055351126, (51, 'an'): 0.10606380298351811, (51, 'anglais'): 0.13494493550684916, (51, 'c’'): 0.16382606803018024, (51, 'faire'): 0.06788502248876166, (51, 'français'): 0.07987177550758587, (51, 'mois'): 0.07227504397450443, (51, 'm’'): 0.1469316885256734, (51, 'netfli'): 0.11805055600234234, (51, 'netflix'): 0.033180475699799004, (51, 'obliger'): 0.1469316885256734, (51, 'parle'): 0.3276521360603605, (51, 'portugais'): 0.2938633770513468, (51, 'portugal'): 0.19270720055351126, (51, 'regarder'): 0.08274647848620885, (51, 'serie'): 0.04114111056491188, (51, 'six'): 0.1469316885256734, (51, 'sous'): 0.12564728753542376, (51, 'titree'): 0.19270720055351126, (51, 'vis'): 0.19270720055351126, (51, 'être'): 0.16382606803018024, (52, 'abonnement'): 0.10452186756152697, (52, 'avis'): 0.20693819119601714, (52, 'bien'): 0.08844914916409634, (52, 'cela'): 0.12223093264685395, (52, 'donne'): 0.20693819119601714, (52, 'envie'): 0.2434196217518037, (52, 'faire'): 0.08574950209106737, (52, 'hd'): 0.17045676064023055, (52, 'lire'): 0.2434196217518037, (52, 'merde'): 0.2434196217518037, (52, 'nest'): 0.14100329811731355, (52, 'payer'): 0.13397533008444393, (52, 'plus'): 0.08318159871372885, (52, 'prendre'): 0.14100329811731355, (52, 'quand'): 0.15871236320264054, (52, 'regarder'): 0.10452186756152697, (52, 'rendez'): 0.2434196217518037, (52, 'si'): 0.11263506123664582, (52, 'tout'): 0.06619352543672616, (53, 'belgiqu'): 0.655304272120721, (53, 'dead'): 0.770828802214045, (53, 'degouter'): 0.770828802214045, (53, 'supprime'): 0.655304272120721, (53, 'the'): 0.5877267541026936, (53, 'walking'): 0.770828802214045, (54, 'aucun'): 0.4454155080971801, (54, 'bon'): 0.4120046911645469, (54, 'film'): 0.19747733071157705, (54, 'français'): 0.38338452243641225, (54, 'ny'): 0.5358125328457916, (55, 'aller'): 0.05278153909750512, (55, 'amelioration'): 0.10511301848373343, (55, 'ce'): 0.0608877878233854, (55, 'cest'): 0.06972410726936161, (55, 'chaque'): 0.08014455737764004, (55, 'compte'): 0.064391212364914, (55, 'deja'): 0.08014455737764004, (55, 'devoir'): 0.07360632845828137, (55, 'difficile'): 0.0893596734710074, (55, 'donner'): 0.0893596734710074, (55, 'evident'): 0.0893596734710074, (55, 'exasperer'): 0.10511301848373343, (55, 'faire'): 0.037028194084779094, (55, 'film'): 0.02244060576267921, (55, 'fois'): 0.06853488411023115, (55, 'français'): 0.13069926901241324, (55, 'genial'): 0.06853488411023115, (55, 'langue'): 0.16028911475528007, (55, 'liste'): 0.10511301848373343, (55, 'loffre'): 0.0893596734710074, (55, 'ny'): 0.0608877878233854, (55, 'place'): 0.0893596734710074, (55, 'pourquoi'): 0.1370697682204623, (55, 'presentation'): 0.10511301848373343, (55, 'princip'): 0.10511301848373343, (55, 'quand'): 0.06853488411023115, (55, 'quil'): 0.07360632845828137, (55, 'rendre'): 0.0893596734710074, (55, 'resumer'): 0.10511301848373343, (55, 'seri'): 0.14721265691656274, (55, 'serie'): 0.04488121152535842, (55, 'si'): 0.048637867352187975, (55, 'surtout'): 0.05785298344555534, (55, 'tel'): 0.0893596734710074, (55, 'traduire'): 0.0893596734710074, (55, 'trouver'): 0.07360632845828137, (55, 'vieux'): 0.05785298344555534, (56, 'dommage'): 0.33035520094887644, (56, 'erreur'): 0.33035520094887644, (56, 'impossible'): 0.21539535006072646, (56, 'jai'): 0.18182366225745963, (56, 'longtemps'): 0.2808446880517375, (56, 'pendant'): 0.2313341751545986, (56, 'pense'): 0.2313341751545986, (56, 'plusieurs'): 0.33035520094887644, (56, 'quun'): 0.33035520094887644, (56, 'regarder'): 0.14185110597635803, (56, 'sav'): 0.561689376103475, (56, 'serie'): 0.07052761811127752, (56, 'utile'): 0.33035520094887644, (57, 'ado'): 0.17045676064023055, (57, 'anime'): 0.20693819119601714, (57, 'cela'): 0.12223093264685395, (57, 'cest'): 0.08073317683820817, (57, 'cucu'): 0.2434196217518037, (57, 'dessin'): 0.20693819119601714, (57, 'dessu'): 0.2434196217518037, (57, 'deçus'): 0.20693819119601714, (57, 'film'): 0.051967718608309746, (57, 'franchement'): 0.15871236320264054, (57, 'français'): 0.10089066379905584, (57, 'majorite'): 0.20693819119601714, (57, 'nul'): 0.13397533008444393, (57, 'point'): 0.2434196217518037, (57, 'rechauff'): 0.2434196217518037, (57, 'tire'): 0.2434196217518037, (57, 'tout'): 0.06619352543672616, (57, 'tres'): 0.09749389952865735, (57, 'voir'): 0.12223093264685395, (58, 'apre'): 0.17788356974170272, (58, 'aucun'): 0.08565682848022695, (58, 'autre'): 0.11598211157116041, (58, 'bien'): 0.06463591669683964, (58, 'bof'): 0.6781462547338772, (58, 'cest'): 0.05899732153561367, (58, 'chose'): 0.12456455585247617, (58, 'dapre'): 0.17788356974170272, (58, 'film'): 0.11392922925667907, (58, 'jetai'): 0.17788356974170272, (58, 'nee'): 0.17788356974170272, (58, 'nouveau'): 0.10896974400216217, (58, 'recherche'): 0.15122406279708947, (58, 'resume'): 0.17788356974170272, (58, 'si'): 0.08231023705754888, (58, 'surtout'): 0.09790504890786289, (58, 'toujours'): 0.11598211157116041, (58, 'vieux'): 0.29371514672358867, (59, 'film'): 0.32912888451929506, (59, 'gros'): 1.54165760442809, (59, 'rengards'): 1.54165760442809, (60, 'avoir'): 0.257564849459656, (60, 'depuis'): 0.2207043850861865, (60, 'français'): 0.174265692016551, (60, 'hier'): 0.3574386938840296, (60, 'impossible'): 0.2741395364409246, (60, 'meme'): 0.2435511512935416, (60, 'merci'): 0.2944253138331255, (60, 'netflix'): 0.07239376516319783, (60, 'probleme'): 0.2944253138331255, (60, 'quelque'): 0.2435511512935416, (60, 'reponse'): 0.3574386938840296, (61, 'adore'): 0.35263605246161617, (61, 'autant'): 0.35263605246161617, (61, 'comprendre'): 0.2833213344056216, (61, 'davi'): 0.4624972813284271, (61, 'enfant'): 0.3238678452164381, (61, 'famille'): 0.3931825632724326, (61, 'negatif'): 0.3931825632724326, (61, 'pourquoi'): 0.3015534900850171, (61, 'surtout'): 0.2545531271604435, (61, 'tout'): 0.12576769832977971, (62, 'abonnement'): 0.04052888742181658, (62, 'aller'): 0.047395667761025, (62, 'appeler'): 0.09438720027110756, (62, 'apprendre'): 0.08024133944335358, (62, 'aucun'): 0.04545056205073266, (62, 'bon'): 0.04204129501679049, (62, 'bref'): 0.0660954786155996, (62, 'car'): 0.051949617787845605, (62, 'cest'): 0.031304701222978674, (62, 'chute'): 0.09438720027110756, (62, 'commercial'): 0.09438720027110756, (62, 'connexion'): 0.09438720027110756, (62, 'contre'): 0.09438720027110756, (62, 'delire'): 0.09438720027110756, (62, 'demande'): 0.09438720027110756, (62, 'diffusion'): 0.09438720027110756, (62, 'diminuer'): 0.09438720027110756, (62, 'ect'): 0.08024133944335358, (62, 'excus'): 0.09438720027110756, (62, 'faire'): 0.06649961386654203, (62, 'gene'): 0.09438720027110756, (62, 'geste'): 0.09438720027110756, (62, 'hd'): 0.0660954786155996, (62, 'jespere'): 0.09438720027110756, (62, 'journal'): 0.09438720027110756, (62, 'lai'): 0.09438720027110756, (62, 'laugmentation'): 0.06154152858877899, (62, 'mail'): 0.07196654131869717, (62, 'net'): 0.09438720027110756, (62, 'netflix'): 0.016251661567248492, (62, 'news'): 0.09438720027110756, (62, 'nombre'): 0.09438720027110756, (62, 'occasionne'): 0.09438720027110756, (62, 'operateur'): 0.09438720027110756, (62, 'pense'): 0.0660954786155996, (62, 'plus'): 0.032254089297160164, (62, 'qualite'): 0.09909176473257353, (62, 'quils'): 0.0660954786155996, (62, 'quoi'): 0.07196654131869717, (62, 'raison'): 0.14393308263739435, (62, 'repondu'): 0.08024133944335358, (62, 'resiliation'): 0.09438720027110756, (62, 'serieux'): 0.08024133944335358, (62, 'soiree'): 0.09438720027110756, (62, 'tout'): 0.02566687721015912, (62, 'ça'): 0.09438720027110756, (63, 'bien'): 0.16805338341178308, (63, 'film'): 0.09873866535578853, (63, 'fois'): 0.3015534900850171, (63, 'interessante'): 0.3931825632724326, (63, 'nouveaute'): 0.23223877202902254, (63, 'passee'): 0.4624972813284271, (63, 'peu'): 0.22270775404859006, (63, 'quinzaine'): 0.4624972813284271, (63, 'serie'): 0.09873866535578853, (63, 'tres'): 0.185238409104449, (64, 'abonnement'): 0.08274647848620885, (64, 'ainsi'): 0.09635360027675563, (64, 'aupre'): 0.09635360027675563, (64, 'avant'): 0.06747246775342458, (64, 'avoir'): 0.05902527800117117, (64, 'car'): 0.15909570447527718, (64, 'cause'): 0.09635360027675563, (64, 'cest'): 0.0319568824984574, (64, 'chez'): 0.13494493550684916, (64, 'cinquante'): 0.09635360027675563, (64, 'correctement'): 0.09635360027675563, (64, 'deçu'): 0.06282364376771188, (64, 'dinternet'): 0.2890608008302669, (64, 'donc'): 0.0734658442628367, (64, 'facture'): 0.0734658442628367, (64, 'faire'): 0.03394251124438083, (64, 'fin'): 0.0734658442628367, (64, 'fournisseur'): 0.09635360027675563, (64, 'frais'): 0.09635360027675563, (64, 'honteux'): 0.09635360027675563, (64, 'illimit'): 0.09635360027675563, (64, 'internet'): 0.16382606803018024, (64, 'jallai'): 0.09635360027675563, (64, 'linscription'): 0.09635360027675563, (64, 'mavait'): 0.08191303401509012, (64, 'mois'): 0.036137521987252216, (64, 'netfli'): 0.05902527800117117, (64, 'netflix'): 0.033180475699799004, (64, 'payer'): 0.10606380298351811, (64, 'possede'): 0.09635360027675563, (64, 'premier'): 0.08191303401509012, (64, 'prevenu'): 0.08191303401509012, (64, 'renseigner'): 0.09635360027675563, (64, 'supplementaire'): 0.19270720055351126, (64, 'surplus'): 0.09635360027675563, (64, 'voir'): 0.048383077506046354, (64, 'voo'): 0.09635360027675563, (64, 'vraiment'): 0.046397448760122924, (65, 'accord'): 0.19270720055351126, (65, 'application'): 0.19270720055351126, (65, 'cest'): 0.0639137649969148, (65, 'changer'): 0.19270720055351126, (65, 'compte'): 0.11805055600234234, (65, 'debut'): 0.16382606803018024, (65, 'dernier'): 0.16382606803018024, (65, 'deçu'): 0.12564728753542376, (65, 'deçus'): 0.16382606803018024, (65, 'enfant'): 0.13494493550684916, (65, 'impossible'): 0.12564728753542376, (65, 'joindre'): 0.19270720055351126, (65, 'marche'): 0.19270720055351126, (65, 'mem'): 0.2938633770513468, (65, 'mois'): 0.14455008794900887, (65, 'netflix'): 0.033180475699799004, (65, 'probleme'): 0.13494493550684916, (65, 'toujours'): 0.12564728753542376, (65, 'tout'): 0.0524032076374082, (65, 'tres'): 0.15436534092037413, (65, 'vraiment'): 0.09279489752024585, (66, 'adresse'): 0.33035520094887644, (66, 'afin'): 0.16517760047443822, (66, 'avertir'): 0.16517760047443822, (66, 'ce'): 0.09568080943674848, (66, 'changement'): 0.33035520094887644, (66, 'compt'): 0.12594144730772006, (66, 'compte'): 0.10118619085915057, (66, 'deux'): 0.08294241858179376, (66, 'deçue'): 0.12594144730772006, (66, 'd’'): 0.2808446880517375, (66, 'envoyer'): 0.33035520094887644, (66, 'lien'): 0.16517760047443822, (66, 'mail'): 0.2518828946154401, (66, 'manqu'): 0.10769767503036323, (66, 'mois'): 0.06195003769243237, (66, 'origine'): 0.16517760047443822, (66, 'peu'): 0.07953848358878216, (66, 'piratage'): 0.16517760047443822, (66, 'pourquoi'): 0.10769767503036323, (66, 'securis'): 0.16517760047443822, (66, 'securite'): 0.14042234402586876, (66, 'six'): 0.12594144730772006, (66, 'valider'): 0.16517760047443822, (67, 'assez'): 0.2512945750708475, (67, 'bien'): 0.14004448617648588, (67, 'bon'): 0.1716686213185612, (67, 'catalogu'): 0.2698898710136983, (67, 'film'): 0.08228222112982377, (67, 'netflix'): 0.06636095139959801, (67, 'recommande'): 0.2938633770513468, (67, 'serie'): 0.16456444225964753, (67, 'super'): 0.3276521360603605, (67, 'trop'): 0.20231235299567096, (67, 'varier'): 0.3854144011070225, (68, 'alcatraz'): 0.1712952893808989, (68, 'aller'): 0.08601436001074908, (68, 'annee'): 0.14562317158238242, (68, 'avant'): 0.11995105378386593, (68, 'bien'): 0.06224199385621595, (68, 'cest'): 0.05681223555281315, (68, 'desabonner'): 0.29124634316476483, (68, 'evade'): 0.1712952893808989, (68, 'exp'): 0.1712952893808989, (68, 'film'): 0.10970962817309836, (68, 'inscrire'): 0.1712952893808989, (68, 'mettre'): 0.11168647780926558, (68, 'nouveaute'): 0.08601436001074908, (68, 'nul'): 0.18855787197069887, (68, 'quand'): 0.11168647780926558, (68, 'recer'): 0.1712952893808989, (68, 'reflechir'): 0.3425905787617978, (68, 'seri'): 0.11995105378386593, (68, 'soixante-dix'): 0.1712952893808989, (68, 'train'): 0.1712952893808989, (68, 'vieux'): 0.09427893598534944, (68, 'vraiment'): 0.08248435335132964, (69, 'cest'): 0.06972410726936161, (69, 'deux'): 0.10556307819501023, (69, 'ergonomique'): 0.21022603696746686, (69, 'fibre'): 0.1787193469420148, (69, 'filme'): 0.21022603696746686, (69, 'fr'): 0.21022603696746686, (69, 'gratuitement'): 0.1787193469420148, (69, 'incomplet'): 0.21022603696746686, (69, 'meme'): 0.1217755756467708, (69, 'minute'): 0.21022603696746686, (69, 'mourir'): 0.1787193469420148, (69, 'na'): 0.14721265691656274, (69, 'netflix'): 0.036196882581598915, (69, 'pouvoir'): 0.16839855373131726, (69, 'presque'): 0.1787193469420148, (69, 'quand'): 0.1370697682204623, (69, 'rien'): 0.09727573470437595, (69, 'tres'): 0.08419927686565863, (69, 'trouver'): 0.14721265691656274, (69, 'vraiment'): 0.10123079729481366, (69, 'web'): 0.21022603696746686, (70, 'client'): 0.3348828330286197, (70, 'depuis'): 0.30346852949350644, (70, 'desabonnee'): 0.5781216016605338, (70, 'longtemps'): 0.4914782040905407, (70, 'plus'): 0.197556296945106, (70, 'regarder'): 0.24823943545862656, (70, 'rien'): 0.26750827043703385, (70, 'tres'): 0.23154801138056122, (71, 'bientot'): 0.3854144011070225, (71, 'comprendre'): 0.23610111200468467, (71, 'compte'): 0.23610111200468467, (71, 'continuer'): 0.3276521360603605, (71, 'desabonn'): 0.3854144011070225, (71, 'faire'): 0.13577004497752332, (71, 'marre'): 0.3276521360603605, (71, 'mois'): 0.14455008794900887, (71, 'netflix'): 0.06636095139959801, (71, 'prelevement'): 0.3854144011070225, (71, 'rien'): 0.17833884695802255, (71, 'trois'): 0.2512945750708475, (72, 'animal'): 0.14453040041513346, (72, 'appele'): 0.14453040041513346, (72, 'assez'): 0.09423546565156783, (72, 'autre'): 0.09423546565156783, (72, 'cartonn'): 0.14453040041513346, (72, 'catalogue'): 0.10120870163013689, (72, 'coup'): 0.10120870163013689, (72, 'demander'): 0.14453040041513346, (72, 'diffuser'): 0.12286955102263518, (72, 'dun'): 0.12286955102263518, (72, 'envisager'): 0.14453040041513346, (72, 'façon'): 0.14453040041513346, (72, 'jai'): 0.15909570447527718, (72, 'kingdom'): 0.14453040041513346, (72, 'maniere'): 0.14453040041513346, (72, 'mem'): 0.11019876639425505, (72, 'netfli'): 0.08853791700175676, (72, 'netflix'): 0.024885356774849255, (72, 'non'): 0.14453040041513346, (72, 'pauvre'): 0.14453040041513346, (72, 'peu'): 0.06959617314018439, (72, 'progressiste'): 0.14453040041513346, (72, 'regarde'): 0.08372070825715493, (72, 'repondu'): 0.12286955102263518, (72, 'savoir'): 0.12286955102263518, (72, 'serie'): 0.06171166584736783, (72, 'si'): 0.06687706760925846, (72, 'tout'): 0.07860481145611231, (72, 'usa'): 0.14453040041513346, (73, 'an'): 0.11570596689111068, (73, 'anglais'): 0.14721265691656274, (73, 'comme'): 0.11035219254309325, (73, 'depuis'): 0.11035219254309325, (73, 'deux'): 0.10556307819501023, (73, 'dix'): 0.1787193469420148, (73, 'film'): 0.13464363457607526, (73, 'grand'): 0.16028911475528007, (73, 'haha'): 0.21022603696746686, (73, 'memes'): 0.21022603696746686, (73, 'merder'): 0.21022603696746686, (73, 'mois'): 0.0788455025176412, (73, 'nest'): 0.1217755756467708, (73, 'ny'): 0.1217755756467708, (73, 'plein'): 0.1787193469420148, (73, 'plus'): 0.07183865343458401, (73, 'quesiment'): 0.21022603696746686, (73, 'sacclame'): 0.21022603696746686, (73, 'site'): 0.128782424729828, (73, 'tout'): 0.05716713560444532, (74, 'faire'): 0.325848107946056, (74, 'netflix'): 0.15926628335903525, (74, 'pirate'): 0.9249945626568542, (74, 'possible'): 0.7863651265448652, (74, 'super'): 0.7863651265448652, (75, '11'): 0.1310608544241442, (75, 'abonnement'): 0.06619718278896708, (75, 'ailleurs'): 0.1310608544241442, (75, 'aucunes'): 0.15416576044280902, (75, 'avoir'): 0.09444044480187387, (75, 'cela'): 0.07741292400967417, (75, 'cest'): 0.05113101199753184, (75, 'coupure'): 0.15416576044280902, (75, 'deconseille'): 0.15416576044280902, (75, 'degueulasse'): 0.15416576044280902, (75, 'dire'): 0.08930208880763192, (75, 'faire'): 0.05430801799100934, (75, 'fois'): 0.10051783002833901, (75, 'fuir'): 0.1310608544241442, (75, 'hd'): 0.10795594840547934, (75, 'horreur'): 0.15416576044280902, (75, 'jai'): 0.169702084773629, (75, 'jamais'): 0.09444044480187387, (75, 'nombreux'): 0.1310608544241442, (75, 'part'): 0.09444044480187387, (75, 'prevenu'): 0.1310608544241442, (75, 'qualite'): 0.16184988239653678, (75, 'quel'): 0.15416576044280902, (75, 'reponse'): 0.1310608544241442, (75, 'signaler'): 0.15416576044280902, (75, 'souscrire'): 0.30833152088561805, (75, 'voir'): 0.07741292400967417, (76, 'abser'): 0.27205722431083945, (76, 'beaucoup'): 0.14280871976165008, (76, 'dieu'): 0.27205722431083945, (76, 'etait'): 0.23128386074848975, (76, 'fil'): 0.23128386074848975, (76, 'film'): 0.11616313571269238, (76, 'français'): 0.1127601536577683, (76, 'netfli'): 0.16665960847389508, (76, 'pensai'): 0.27205722431083945, (76, 'presque'): 0.23128386074848975, (76, 'serie'): 0.05808156785634619, (76, 'televisees'): 0.23128386074848975, (76, 'tout'): 0.07398099901751747, (76, 'traduire'): 0.23128386074848975, (76, 'trouver'): 0.19051049718614002, (76, 'vieux'): 0.1497371336237903, (77, 'abonnement'): 0.06205985886465664, (77, 'adorer'): 0.14453040041513346, (77, 'aussi'): 0.10120870163013689, (77, 'autre'): 0.09423546565156783, (77, 'beaucoup'): 0.07586713237337661, (77, 'blinders'): 0.12286955102263518, (77, 'cest'): 0.0479353237476861, (77, 'chapo'): 0.14453040041513346, (77, 'choisir'): 0.14453040041513346, (77, 'choix'): 0.10120870163013689, (77, 'combien'): 0.14453040041513346, (77, 'crown'): 0.14453040041513346, (77, 'definition'): 0.14453040041513346, (77, 'el'): 0.14453040041513346, (77, 'film'): 0.030855832923683914, (77, 'films'): 0.11019876639425505, (77, 'formidable'): 0.14453040041513346, (77, 'genial'): 0.18847093130313566, (77, 'genre'): 0.12286955102263518, (77, 'gout'): 0.12286955102263518, (77, 'haut'): 0.14453040041513346, (77, 'netflix'): 0.024885356774849255, (77, 'peaky'): 0.12286955102263518, (77, 'pouvoir'): 0.057887002845140305, (77, 'serie'): 0.030855832923683914, (77, 'simplement'): 0.09423546565156783, (77, 'suivre'): 0.12286955102263518, (77, 'the'): 0.11019876639425505, (77, 'tout'): 0.07860481145611231, (77, 'tres'): 0.057887002845140305, (78, 'deçue'): 0.2203975327885101, (78, 'drogue'): 0.24573910204527036, (78, 'etc'): 0.2890608008302669, (78, 'faire'): 0.1018275337331425, (78, 'film'): 0.06171166584736783, (78, 'interessant'): 0.18847093130313566, (78, 'rien'): 0.13375413521851692, (78, 'serie'): 0.06171166584736783, (78, 'tour'): 0.2203975327885101, (78, 'tre'): 0.2890608008302669, (78, 'tres'): 0.11577400569028061, (78, 'trop'): 0.30346852949350644, (78, 'vieux'): 0.15909570447527718, (78, 'violent'): 0.24573910204527036, (78, 'vite'): 0.24573910204527036, (79, 'amazon'): 0.3854144011070225, (79, 'arriver'): 0.3854144011070225, (79, 'car'): 0.21212760596703623, (79, 'concurrent'): 0.3854144011070225, (79, 'depasse'): 0.3854144011070225, (79, 'disney'): 0.3276521360603605, (79, 'film'): 0.08228222112982377, (79, 'jour'): 0.2512945750708475, (79, 'mettre'): 0.2512945750708475, (79, 'nouveau'): 0.23610111200468467, (79, 'penser'): 0.3276521360603605, (79, 'plupart'): 0.3854144011070225, (80, 'charg'): 0.5781216016605338, (80, 'dessai'): 0.5781216016605338, (80, 'gratuit'): 0.4407950655770202, (80, 'jour'): 0.3769418626062713, (80, 'mois'): 0.2168251319235133, (80, 'mont'): 0.4407950655770202, (80, 'premier'): 0.4914782040905407, (80, 'promettre'): 0.5781216016605338, (81, 'aide'): 0.30833152088561805, (81, 'bien'): 0.1120355889411887, (81, 'choix'): 0.21591189681095868, (81, 'client'): 0.17860417761526384, (81, 'comme'): 0.16184988239653678, (81, 'fil'): 0.2621217088482884, (81, 'franc'): 0.23509070164107743, (81, 'meme'): 0.17860417761526384, (81, 'mont'): 0.23509070164107743, (81, 'ravir'): 0.47018140328215485, (81, 'service'): 0.17860417761526384, (81, 'site'): 0.18888088960374774, (81, 'surtout'): 0.169702084773629, (81, 'vraiment'): 0.14847183603239336, (82, 'augmentation'): 0.185597922348219, (82, 'benefice'): 0.2434196217518037, (82, 'chat'): 0.20693819119601714, (82, 'compte'): 0.14911649179243242, (82, 'dargent'): 0.2434196217518037, (82, 'dialogue'): 0.4868392435036074, (82, 'donne'): 0.20693819119601714, (82, 'juste'): 0.185597922348219, (82, 'manqu'): 0.15871236320264054, (82, 'mepris'): 0.2434196217518037, (82, 'nest'): 0.14100329811731355, (82, 'netflix'): 0.04191217983132506, (82, 'qualitee'): 0.2434196217518037, (82, 'quantite'): 0.20693819119601714, (82, 'sans'): 0.17045676064023055, (82, 'site'): 0.14911649179243242, (82, 'supprime'): 0.20693819119601714, (82, 'video'): 0.2434196217518037, (83, 'beaucoup'): 0.11035219254309325, (83, 'bon'): 0.0936374298101243, (83, 'cest'): 0.13944821453872322, (83, 'cher'): 0.128782424729828, (83, 'concerne'): 0.1787193469420148, (83, 'coup'): 0.14721265691656274, (83, 'dater'): 0.21022603696746686, (83, 'dextraordinaire'): 0.21022603696746686, (83, 'deçue'): 0.16028911475528007, (83, 'film'): 0.04488121152535842, (83, 'meilleur'): 0.21022603696746686, (83, 'nouveaute'): 0.10556307819501023, (83, 'ny'): 0.1217755756467708, (83, 'peu'): 0.10123079729481366, (83, 'quelque'): 0.1217755756467708, (83, 'rien'): 0.09727573470437595, (83, 'serie'): 0.08976242305071684, (83, 'tres'): 0.16839855373131726, (83, 'trouve'): 0.1370697682204623, (84, 'abonnement'): 0.09929577418345063, (84, 'cela'): 0.11611938601451127, (84, 'drogue'): 0.1965912816362163, (84, 'justifier'): 0.1965912816362163, (84, 'laisse'): 0.23124864066421355, (84, 'laugmentation'): 0.15077674504250854, (84, 'legal'): 0.23124864066421355, (84, 'maintenant'): 0.16193392260821904, (84, 'marbre'): 0.23124864066421355, (84, 'nene'): 0.23124864066421355, (84, 'nouveaute'): 0.11611938601451127, (84, 'ny'): 0.1339531332114479, (84, 'oui'): 0.17631802623080808, (84, 'pouvoir'): 0.0926192045522245, (84, 'prix'): 0.11611938601451127, (84, 'quil'): 0.16193392260821904, (84, 'ravir'): 0.17631802623080808, (84, 'streaming'): 0.15077674504250854, (84, 'surtout'): 0.12727656358022174, (84, 'tant'): 0.23124864066421355, (85, 'augmente'): 0.20241740326027377, (85, 'base'): 0.24573910204527036, (85, 'bof'): 0.2203975327885101, (85, 'casa'): 0.2890608008302669, (85, 'finir'): 0.2890608008302669, (85, 'franchement'): 0.18847093130313566, (85, 'lucifer'): 0.24573910204527036, (85, 'on'): 0.2890608008302669, (85, 'papel'): 0.2890608008302669, (85, 'prix'): 0.14514923251813908, (85, 'quoi'): 0.2203975327885101, (85, 'qu’'): 0.24573910204527036, (85, 'regarde'): 0.16744141651430985, (85, 'sauf'): 0.2890608008302669, (85, 'surcotee'): 0.2890608008302669, (85, 'trouve'): 0.18847093130313566, (86, 'men'): 1.1562432033210677, (86, 'passer'): 0.7538837252125427, (86, 'plus'): 0.395112593890212, (86, 'pouvoir'): 0.46309602276112244, (87, 'bemol'): 0.15727302530897302, (87, 'catalogu'): 0.12954713808657523, (87, 'choix'): 0.12954713808657523, (87, 'dexcellent'): 0.18499891253137082, (87, 'discutable'): 0.15727302530897302, (87, 'documentaire'): 0.12062139603400683, (87, 'dutilisation'): 0.18499891253137082, (87, 'enorm'): 0.18499891253137082, (87, 'excellent'): 0.12954713808657523, (87, 'facile'): 0.15727302530897302, (87, 'film'): 0.07899093228463082, (87, 'globalement'): 0.18499891253137082, (87, 'netflix'): 0.06370651334361409, (87, 'original'): 0.15727302530897302, (87, 'peu'): 0.08908310161943601, (87, 'produire'): 0.18499891253137082, (87, 'qualite'): 0.09710992943792207, (87, 'reussite'): 0.18499891253137082, (87, 'serie'): 0.03949546614231541, (87, 'seul'): 0.14105442098464646, (87, 'site'): 0.11332853376224865, (87, 'streaming'): 0.12062139603400683, (87, 'vieillot'): 0.18499891253137082, (88, 'chercher'): 0.3918178360684624, (88, 'clairement'): 0.5138858681426968, (88, 'contenu'): 0.3350594334277967, (88, 'evident'): 0.4368695147471473, (88, 'manqu'): 0.3350594334277967, (88, 'netflix'): 0.08848126853279735, (88, 'passer'): 0.3350594334277967, (88, 'quatre'): 0.3350594334277967, (88, 'temps'): 0.3598531613515978, (89, 'alors'): 0.16665960847389508, (89, 'assez'): 0.0886922029661815, (89, 'attention'): 0.13602861215541973, (89, 'avant'): 0.09525524859307001, (89, 'butoir'): 0.13602861215541973, (89, 'contenu'): 0.0886922029661815, (89, 'cote'): 0.13602861215541973, (89, 'date'): 0.13602861215541973, (89, 'desabonner'): 0.11564193037424488, (89, 'donc'): 0.1037164860181224, (89, 'faire'): 0.047918839403831764, (89, 'film'): 0.029040783928173095, (89, 'gratuit'): 0.2074329720362448, (89, 'jour'): 0.0886922029661815, (89, 'mail'): 0.1037164860181224, (89, 'mois'): 0.10203535619930038, (89, 'moyen'): 0.11564193037424488, (89, 'niveau'): 0.13602861215541973, (89, 'nul'): 0.07486856681189515, (89, 'ojos'): 0.13602861215541973, (89, 'oublier'): 0.11564193037424488, (89, 'oui'): 0.1037164860181224, (89, 'petit'): 0.11564193037424488, (89, 'profitez'): 0.13602861215541973, (89, 'puis'): 0.11564193037424488, (89, 'renvoyer'): 0.13602861215541973, (89, 'resum'): 0.13602861215541973, (89, 'salut'): 0.13602861215541973, (89, 'serie'): 0.029040783928173095, (89, 'tout'): 0.03699049950875873, (89, 'trois'): 0.0886922029661815, (90, '24h'): 0.5781216016605338, (90, 'catalogue'): 0.40483480652054754, (90, 'faire'): 0.203655067466285, (90, 'gratuit'): 0.4407950655770202, (90, 'juste'): 0.4407950655770202, (90, 'mois'): 0.2168251319235133, (90, 'nul'): 0.31819140895055437, (90, 'tour'): 0.4407950655770202, (91, 'abonnement'): 0.030089628540439586, (91, 'aime'): 0.07007534565582228, (91, 'aujourd’hui'): 0.07007534565582228, (91, 'autre'): 0.0456899227401541, (91, 'avoir'): 0.08585494981988534, (91, 'bien'): 0.05092526770054032, (91, 'blacklist'): 0.07007534565582228, (91, 'calmer'): 0.07007534565582228, (91, 'cela'): 0.03518769273167008, (91, 'certain'): 0.05342970491842669, (91, 'deux'): 0.10556307819501023, (91, 'diversite'): 0.05957311564733827, (91, 'd’'): 0.23829246258935308, (91, 'episode'): 0.04907088563885425, (91, 'espoir'): 0.07007534565582228, (91, 'etait'): 0.05957311564733827, (91, 'eter'): 0.07007534565582228, (91, 'etre'): 0.04292747490994267, (91, 'exemple'): 0.10685940983685338, (91, 'faire'): 0.04937092544637212, (91, 'films'): 0.05342970491842669, (91, 'heure'): 0.05957311564733827, (91, 'heureusement'): 0.05957311564733827, (91, 'impossible'): 0.0456899227401541, (91, 'jeu'): 0.05957311564733827, (91, 'laisser'): 0.07007534565582228, (91, 'l’'): 0.11914623129467654, (91, 'manqu'): 0.0456899227401541, (91, 'manquer'): 0.07007534565582228, (91, 'mille'): 0.04907088563885425, (91, 'netflix'): 0.024131255054399278, (91, 'n’'): 0.07007534565582228, (91, 'obliger'): 0.05342970491842669, (91, 'payer'): 0.03856865563037023, (91, 'plus'): 0.023946217811528003, (91, 'pouvoir'): 0.028066425621886208, (91, 'prendre'): 0.0405918585489236, (91, 'present'): 0.05957311564733827, (91, 'qu’'): 0.05957311564733827, (91, 'reell'): 0.07007534565582228, (91, 'regarder'): 0.030089628540439586, (91, 'resultat'): 0.05957311564733827, (91, 'saison'): 0.04292747490994267, (91, 'seize'): 0.05957311564733827, (91, 'serie'): 0.04488121152535842, (91, 'simple'): 0.07007534565582228, (91, 'sortir'): 0.05342970491842669, (91, 'streaming'): 0.0456899227401541, (91, 'suite'): 0.08585494981988534, (91, 'the'): 0.05342970491842669, (91, 'tout'): 0.019055711868148438, (91, 'un'): 0.07007534565582228, (92, 'cher'): 0.11332853376224865, (92, 'deja'): 0.14105442098464646, (92, 'devant'): 0.18499891253137082, (92, 'eheh'): 0.18499891253137082, (92, 'etre'): 0.11332853376224865, (92, 'film'): 0.03949546614231541, (92, 'leur'): 0.15727302530897302, (92, 'mois'): 0.06938404221552426, (92, 'neufs'): 0.18499891253137082, (92, 'peu'): 0.08908310161943601, (92, 'plus'): 0.06321801502243393, (92, 'pouvoir'): 0.07409536364177959, (92, 'production'): 0.18499891253137082, (92, 'programmation'): 0.18499891253137082, (92, 'proposer'): 0.15727302530897302, (92, 'propre'): 0.18499891253137082, (92, 'quils'): 0.12954713808657523, (92, 'selection'): 0.18499891253137082, (92, 'serie'): 0.03949546614231541, (92, 'site'): 0.11332853376224865, (92, 'surtout'): 0.1018212508641774, (92, 'tarif'): 0.12062139603400683, (92, 'top'): 0.15727302530897302, (92, 'tout'): 0.05030707933191188, (92, 'vraiment'): 0.08908310161943601, (93, 'bof'): 0.2074329720362448, (93, 'deconnecter'): 0.27205722431083945, (93, 'falloir'): 0.19051049718614002, (93, 'film'): 0.05808156785634619, (93, 'moyen'): 0.23128386074848975, (93, 'netflix'): 0.0468430245173633, (93, 'permanence'): 0.27205722431083945, (93, 'pouvoir'): 0.10896377006144058, (93, 'regarder'): 0.11681855786288309, (93, 'retard'): 0.27205722431083945, (93, 'securite'): 0.23128386074848975, (93, 'serie'): 0.05808156785634619, (93, 'servir'): 0.27205722431083945, (93, 'tout'): 0.07398099901751747, (93, 'tres'): 0.10896377006144058, (93, 'vieux'): 0.1497371336237903, (93, 'vpn'): 0.27205722431083945, (94, 'ajouts'): 0.18499891253137082, (94, 'bon'): 0.08240093823290938, (94, 'catologue'): 0.18499891253137082, (94, 'certains'): 0.18499891253137082, (94, 'cinq'): 0.14105442098464646, (94, 'deçu'): 0.12062139603400683, (94, 'epique'): 0.18499891253137082, (94, 'fais'): 0.18499891253137082, (94, 'falloir'): 0.12954713808657523, (94, 'las'): 0.18499891253137082, (94, 'navet'): 0.15727302530897302, (94, 'netflix'): 0.031853256671807044, (94, 'perso'): 0.18499891253137082, (94, 'plus'): 0.12643603004486786, (94, 'quasiment'): 0.18499891253137082, (94, 'recent'): 0.18499891253137082, (94, 'regulier'): 0.18499891253137082, (94, 'reste'): 0.12062139603400683, (94, 'sen'): 0.18499891253137082, (94, 'titre'): 0.14105442098464646, (94, 'tout'): 0.05030707933191188, (94, 'trop'): 0.09710992943792207, (94, 'valise'): 0.18499891253137082, (94, 'voire'): 0.18499891253137082, (95, 'alors'): 0.2833213344056216, (95, 'anglais'): 0.3238678452164381, (95, 'bien'): 0.33610676682356616, (95, 'film'): 0.09873866535578853, (95, 'français'): 0.19169226121820612, (95, 'peu'): 0.22270775404859006, (95, 'plus'): 0.15804503755608482, (95, 'sous'): 0.3015534900850171, (95, 'titre'): 0.35263605246161617, (96, 'accer'): 0.17788356974170272, (96, 'actif'): 0.17788356974170272, (96, 'ah'): 0.17788356974170272, (96, 'aucun'): 0.08565682848022695, (96, 'compt'): 0.13562925094677544, (96, 'excellent'): 0.12456455585247617, (96, 'film'): 0.03797640975222636, (96, 'france'): 0.17788356974170272, (96, 'itali'): 0.17788356974170272, (96, 'italien'): 0.17788356974170272, (96, 'jamais'): 0.10896974400216217, (96, 'javais'): 0.13562925094677544, (96, 'navai'): 0.17788356974170272, (96, 'probleme'): 0.24912911170495233, (96, 'qua'): 0.17788356974170272, (96, 'recommande'): 0.13562925094677544, (96, 'rencontr'): 0.17788356974170272, (96, 'resolu'): 0.17788356974170272, (96, 'revenir'): 0.17788356974170272, (96, 'service'): 0.2060817434022275, (96, 'sest'): 0.17788356974170272, (96, 'si'): 0.08231023705754888, (96, 'totalement'): 0.15122406279708947, (96, 'vo'): 0.15122406279708947, (97, '11'): 0.09829564081810815, (97, 'addict'): 0.11562432033210678, (97, 'aussi'): 0.08096696130410952, (97, 'cela'): 0.058059693007255636, (97, 'chef'): 0.11562432033210678, (97, 'connaître'): 0.09829564081810815, (97, 'depuis'): 0.060693705898701295, (97, 'dire'): 0.06697656660572394, (97, 'documentaire'): 0.07538837252125427, (97, 'doeuvre'): 0.11562432033210678, (97, 'duffer'): 0.11562432033210678, (97, 'euro'): 0.08096696130410952, (97, 'film'): 0.02468466633894713, (97, 'franc'): 0.08815901311540404, (97, 'frere'): 0.11562432033210678, (97, 'genre'): 0.09829564081810815, (97, 'jamais'): 0.1416606672028108, (97, 'largement'): 0.11562432033210678, (97, 'mois'): 0.04336502638470266, (97, 'na'): 0.08096696130410952, (97, 'naurier'): 0.11562432033210678, (97, 'netflix'): 0.07963314167951763, (97, 'original'): 0.09829564081810815, (97, 'parle'): 0.09829564081810815, (97, 'sans'): 0.08096696130410952, (97, 'serie'): 0.04936933267789426, (97, 'si'): 0.05350165408740677, (97, 'sortie'): 0.11562432033210678, (97, 'sranger'): 0.11562432033210678, (97, 'things'): 0.09829564081810815, (97, 'tout'): 0.03144192458244493, (97, 'valoir'): 0.08815901311540404, (97, 'varie'): 0.11562432033210678, (97, 'voir'): 0.058059693007255636, (97, 'œuvre'): 0.11562432033210678, (98, '-'): 0.041387638239203425, (98, 'abo'): 0.048683924350360744, (98, 'acheter'): 0.048683924350360744, (98, 'an'): 0.02679506601688879, (98, 'anime'): 0.041387638239203425, (98, 'archer'): 0.048683924350360744, (98, 'bipbiiip'): 0.048683924350360744, (98, 'biper'): 0.048683924350360744, (98, 'blu'): 0.048683924350360744, (98, 'bon'): 0.02168445742971299, (98, 'ca'): 0.048683924350360744, (98, 'canal'): 0.03711958446964381, (98, 'carrement'): 0.041387638239203425, (98, 'celui'): 0.03409135212804611, (98, 'certain'): 0.03711958446964381, (98, 'chaine'): 0.09736784870072149, (98, 'client'): 0.02820065962346271, (98, 'comme'): 0.05111048917785371, (98, 'comprendre'): 0.029823298358486485, (98, 'conner'): 0.048683924350360744, (98, 'control'): 0.048683924350360744, (98, 'coup'): 0.03409135212804611, (98, 'deja'): 0.03711958446964381, (98, 'demarrer'): 0.048683924350360744, (98, 'dessin'): 0.041387638239203425, (98, 'deteste'): 0.048683924350360744, (98, 'dire'): 0.02820065962346271, (98, 'emission'): 0.048683924350360744, (98, 'episode'): 0.06818270425609221, (98, 'faut'): 0.048683924350360744, (98, 'fin'): 0.03711958446964381, (98, 'flixbip'): 0.048683924350360744, (98, 'franc'): 0.03711958446964381, (98, 'gratter'): 0.048683924350360744, (98, 'hache'): 0.048683924350360744, (98, 'ignore'): 0.048683924350360744, (98, 'insignifiant'): 0.048683924350360744, (98, 'integral'): 0.048683924350360744, (98, 'inutile'): 0.041387638239203425, (98, 'jer'): 0.03711958446964381, (98, 'm6'): 0.048683924350360744, (98, 'mal'): 0.041387638239203425, (98, 'mem'): 0.03711958446964381, (98, 'merci'): 0.06818270425609221, (98, 'montrer'): 0.048683924350360744, (98, 'netflix'): 0.016764871932530023, (98, 'nu'): 0.048683924350360744, (98, 'nul'): 0.02679506601688879, (98, 'oeuvre'): 0.048683924350360744, (98, 'oui'): 0.03711958446964381, (98, 'parental'): 0.048683924350360744, (98, 'part'): 0.029823298358486485, (98, 'passer'): 0.03174247264052811, (98, 'payant'): 0.048683924350360744, (98, 'payeur'): 0.048683924350360744, (98, 'pens'): 0.048683924350360744, (98, 'place'): 0.041387638239203425, (98, 'plus'): 0.016636319742745768, (98, 'possibilite'): 0.048683924350360744, (98, 'possible'): 0.041387638239203425, (98, 'prive'): 0.09736784870072149, (98, 'public'): 0.041387638239203425, (98, 'quarante'): 0.041387638239203425, (98, 'quatre'): 0.03174247264052811, (98, 'quelque'): 0.02820065962346271, (98, 'ray'): 0.048683924350360744, (98, 'regarder'): 0.020904373512305393, (98, 'respect'): 0.048683924350360744, (98, 'respecter'): 0.048683924350360744, (98, 'rtl9'): 0.048683924350360744, (98, 'sat'): 0.048683924350360744, (98, 'scene'): 0.06818270425609221, (98, 'second'): 0.048683924350360744, (98, 'sept'): 0.048683924350360744, (98, 'service'): 0.02820065962346271, (98, 'si'): 0.022527012247329167, (98, 'stargate'): 0.048683924350360744, (98, 'suite'): 0.029823298358486485, (98, 'suivre'): 0.041387638239203425, (98, 'trop'): 0.025555244588926856, (98, 'truc'): 0.048683924350360744, (98, 'tv'): 0.03711958446964381, (98, 'utilise'): 0.048683924350360744, (98, 'violent'): 0.041387638239203425, (98, 'vod'): 0.048683924350360744, (98, 'voir'): 0.024446186529370792, (98, 'vouloir'): 0.02820065962346271, (98, 'vue'): 0.048683924350360744, (99, 'abandonner'): 0.08365586452604948, (99, 'acteur'): 0.16731172905209896, (99, 'ajouter'): 0.09840367687838873, (99, 'aller'): 0.049412504687026064, (99, 'alors'): 0.06028113497991949, (99, 'ancien'): 0.06890805217371022, (99, 'assez'): 0.06416031703936532, (99, 'aucun'): 0.09476925704195321, (99, 'bien'): 0.07151207804756726, (99, 'certes'): 0.09840367687838873, (99, 'cher'): 0.06028113497991949, (99, 'contenir'): 0.07502894733225876, (99, 'continue'): 0.09840367687838873, (99, 'euro'): 0.06890805217371022, (99, 'famille'): 0.08365586452604948, (99, 'film'): 0.08403290668577747, (99, 'franchement'): 0.06416031703936532, (99, 'hors'): 0.09840367687838873, (99, 'mois'): 0.036906405433789494, (99, 'nouveaute'): 0.09882500937405213, (99, 'onze'): 0.08365586452604948, (99, 'pareil'): 0.08365586452604948, (99, 'part'): 0.18084340493975845, (99, 'pouvoir'): 0.07882485493806339, (99, 'prendre'): 0.057001333281467184, (99, 'regarde'): 0.057001333281467184, (99, 'regarder'): 0.04225352092912792, (99, 'reste'): 0.06416031703936532, (99, 'resultat'): 0.08365586452604948, (99, 'serie'): 0.021008226671444367, (99, 'si'): 0.045533322627580225, (99, 'site'): 0.06028113497991949, (99, 'suite'): 0.06028113497991949, (99, 'tape'): 0.09840367687838873, (99, 'tout'): 0.026759084751016956, (99, 'voir'): 0.09882500937405213, (100, 'abonne'): 0.23128386074848975, (100, 'choix'): 0.19051049718614002, (100, 'conter'): 0.27205722431083945, (100, 'detre'): 0.27205722431083945, (100, 'documentaire'): 0.177384405932363, (100, 'ect'): 0.23128386074848975, (100, 'film'): 0.05808156785634619, (100, 'grand'): 0.2074329720362448, (100, 'merci'): 0.19051049718614002, (100, 'netflix'): 0.0468430245173633, (100, 'qualite'): 0.14280871976165008, (100, 'quantite'): 0.23128386074848975, (100, 'serie'): 0.05808156785634619, (100, 'top'): 0.23128386074848975, (100, 'tres'): 0.10896377006144058, (100, 'trop'): 0.14280871976165008, (100, 'vraiment'): 0.13100456120505297, (101, 'aimer'): 0.3574386938840296, (101, 'ce'): 0.2435511512935416, (101, 'conseille'): 0.4204520739349337, (101, 'film'): 0.17952484610143368, (101, 'internet'): 0.3574386938840296, (101, 'plateforme'): 0.32057822951056014, (101, 'regarder'): 0.361075542485275, (101, 'si'): 0.1945514694087519, (101, 'streaming'): 0.2741395364409246}\n"
     ]
    }
   ],
   "source": [
    "print(tf_idf)"
   ]
  },
  {
   "cell_type": "code",
   "execution_count": 34,
   "id": "3e11293a",
   "metadata": {},
   "outputs": [],
   "source": [
    "####################################################\n",
    "### Vectorisation des commentaires consommateurs ###\n",
    "####################################################"
   ]
  },
  {
   "cell_type": "code",
   "execution_count": 35,
   "id": "09082a2d",
   "metadata": {},
   "outputs": [],
   "source": [
    "D = np.zeros((len(data), len(total_vocab)))\n",
    "for i in tf_idf:\n",
    "    ind = total_vocab.index(i[1])\n",
    "    D[i[0]][ind] = tf_idf[i]"
   ]
  },
  {
   "cell_type": "code",
   "execution_count": 36,
   "id": "e98f8dab",
   "metadata": {},
   "outputs": [
    {
     "name": "stdout",
     "output_type": "stream",
     "text": [
      "(102, 1094)\n",
      "[[0.06636095 0.3854144  0.66976567 ... 0.         0.         0.        ]\n",
      " [0.         0.         0.         ... 0.         0.         0.        ]\n",
      " [0.         0.         0.         ... 0.         0.         0.        ]\n",
      " ...\n",
      " [0.         0.         0.         ... 0.         0.         0.        ]\n",
      " [0.04684302 0.         0.         ... 0.27205722 0.27205722 0.        ]\n",
      " [0.         0.         0.         ... 0.         0.         0.42045207]]\n"
     ]
    }
   ],
   "source": [
    "print(D.shape)\n",
    "print(D)"
   ]
  },
  {
   "cell_type": "code",
   "execution_count": 37,
   "id": "9b72bec9",
   "metadata": {},
   "outputs": [],
   "source": [
    "#####################################################\n",
    "### Classification et visualisation des résultats ###\n",
    "#####################################################"
   ]
  },
  {
   "cell_type": "code",
   "execution_count": 38,
   "id": "95f44416",
   "metadata": {},
   "outputs": [],
   "source": [
    "from sklearn.neural_network import MLPClassifier\n",
    "from sklearn.linear_model import LogisticRegression\n",
    "from sklearn.discriminant_analysis import LinearDiscriminantAnalysis\n",
    "from sklearn.svm import SVC\n",
    "from sklearn.neighbors import KNeighborsClassifier\n",
    "from sklearn.naive_bayes import GaussianNB\n",
    "from sklearn.linear_model import RidgeClassifierCV\n",
    "from sklearn.tree import DecisionTreeClassifier\n",
    "from sklearn.ensemble import AdaBoostClassifier\n",
    "from sklearn.discriminant_analysis import QuadraticDiscriminantAnalysis\n",
    "from sklearn.model_selection import train_test_split\n",
    "from sklearn.metrics import f1_score\n",
    "import matplotlib.pyplot as plt\n",
    "from sklearn.ensemble import VotingClassifier  "
   ]
  },
  {
   "cell_type": "code",
   "execution_count": 39,
   "id": "90d1e8a2",
   "metadata": {},
   "outputs": [],
   "source": [
    "X = D\n",
    "y_1 = bdd['note']\n",
    "y_2 = bdd['binary']\n",
    "y_3 = bdd['binary_pos']\n",
    "y_4 = bdd['binary_neg']\n",
    "\n",
    "labels = [y_1, y_2, y_3, y_4]\n",
    "names = ['multiclasse', 'binaire 1', 'binaire 2', 'binaire 3']\n",
    "values = []"
   ]
  },
  {
   "cell_type": "code",
   "execution_count": 40,
   "id": "1df78ec1",
   "metadata": {},
   "outputs": [],
   "source": [
    "### Résultats moyens des classifiers ###"
   ]
  },
  {
   "cell_type": "code",
   "execution_count": 41,
   "id": "be86ae03",
   "metadata": {},
   "outputs": [
    {
     "name": "stdout",
     "output_type": "stream",
     "text": [
      "multiclasse\n",
      "moyenne / standard deviation\n",
      "[[0.         0.41025641 0.09763812]\n",
      " [1.         0.4017094  0.02634365]\n",
      " [2.         0.5        0.01813094]\n",
      " [3.         0.4957265  0.03364961]\n",
      " [4.         0.51282051 0.05128205]\n",
      " [5.         0.40598291 0.05765272]\n",
      " [6.         0.42735043 0.10945512]\n",
      " [7.         0.47863248 0.06309753]\n",
      " [8.         0.51282051 0.1132277 ]\n",
      " [9.         0.43589744 0.03626189]]\n",
      "binaire 1\n",
      "moyenne / standard deviation\n",
      "[[0.         0.67521368 0.04482089]\n",
      " [1.         0.73931624 0.03021824]\n",
      " [2.         0.8034188  0.02834722]\n",
      " [3.         0.73931624 0.02417459]\n",
      " [4.         0.75213675 0.04482089]\n",
      " [5.         0.7991453  0.07856742]\n",
      " [6.         0.76068376 0.03963085]\n",
      " [7.         0.77350427 0.09323686]\n",
      " [8.         0.79487179 0.04796997]\n",
      " [9.         0.69230769 0.04796997]]\n",
      "binaire 2\n",
      "moyenne / standard deviation\n",
      "[[0.         0.72649573 0.02834722]\n",
      " [1.         0.82905983 0.01911169]\n",
      " [2.         0.83760684 0.01598999]\n",
      " [3.         0.82478632 0.02634365]\n",
      " [4.         0.81196581 0.0120873 ]\n",
      " [5.         0.83760684 0.03021824]\n",
      " [6.         0.82478632 0.05472756]\n",
      " [7.         0.85470085 0.01598999]\n",
      " [8.         0.86752137 0.02634365]\n",
      " [9.         0.90598291 0.03676207]]\n",
      "binaire 3\n",
      "moyenne / standard deviation\n",
      "[[0.         0.58974359 0.08695295]\n",
      " [1.         0.60683761 0.10058634]\n",
      " [2.         0.59401709 0.09085595]\n",
      " [3.         0.54700855 0.04358136]\n",
      " [4.         0.57692308 0.12429948]\n",
      " [5.         0.5982906  0.03676207]\n",
      " [6.         0.58974359 0.06537205]\n",
      " [7.         0.56837607 0.07201837]\n",
      " [8.         0.51709402 0.099491  ]\n",
      " [9.         0.57264957 0.04602705]]\n",
      "multiclasse F_score : 0.4581196581196581\n",
      "binaire 1 F_score : 0.752991452991453\n",
      "binaire 2 F_score : 0.8320512820512821\n",
      "binaire 3 F_score : 0.576068376068376\n"
     ]
    },
    {
     "data": {
      "image/png": "[encoded data removed]",
      "text/plain": [
       "<Figure size 432x288 with 1 Axes>"
      ]
     },
     "metadata": {
      "needs_background": "light"
     },
     "output_type": "display_data"
    }
   ],
   "source": [
    "n = -1\n",
    "for Y in labels:\n",
    "    n = n + 1\n",
    "    k_fold = 10\n",
    "    A = np.zeros((k_fold,3))             \n",
    "    l = -1\n",
    "\n",
    "    ensemble_nonlin = np.zeros((9,k_fold)) # 9 classifiers\n",
    "    models = [MLPClassifier(alpha=1, random_state=123, max_iter=1000, activation = 'logistic'),\n",
    "          LogisticRegression(solver='lbfgs', random_state=123, multi_class='multinomial'),\n",
    "          SVC(kernel='rbf', C=1.0),\n",
    "          SVC(gamma=2, C=1),\n",
    "          KNeighborsClassifier(n_neighbors=3),\n",
    "          GaussianNB(),\n",
    "          RidgeClassifierCV(alphas=(0.1, 1.0, 10.0), fit_intercept =  False),\n",
    "          DecisionTreeClassifier(random_state=0),\n",
    "          AdaBoostClassifier()\n",
    "          ]\n",
    "\n",
    "    for j in range(k_fold):\n",
    "        l = l+1\n",
    "        i=-1\n",
    "        X_train, X_test, y_train, y_test = train_test_split(X, Y, train_size=0.75, random_state=42+j)\n",
    "        for clf in models:\n",
    "            i = i+1\n",
    "            clf.fit(X_train, y_train)\n",
    "            y_pred = clf.predict(X_test)\n",
    "            ensemble_nonlin[i,j] = f1_score(y_test, y_pred, average='micro')\n",
    "\n",
    "        A[l,0] = l\n",
    "\n",
    "        A[l,1] = np.mean(ensemble_nonlin[:,j]) # moyenne F1\n",
    "\n",
    "        A[l,2] = np.std(ensemble_nonlin[:,j]) # ecart type F1\n",
    "    print(names[n])    \n",
    "    print(\"moyenne / standard deviation\")\n",
    "    print(A)\n",
    "    F_score_value = []\n",
    "    for i in range(len(A)):\n",
    "        F_score_value.append(A[i,1])\n",
    "        \n",
    "    values.append(np.mean(F_score_value))\n",
    "    \n",
    "for name in range(len(names)):\n",
    "    print(names[name] + \" F_score : \" + str(values[name]))\n",
    "\n",
    "plt.bar(names, values)\n",
    "\n",
    "plt.show()"
   ]
  },
  {
   "cell_type": "code",
   "execution_count": 42,
   "id": "26295c69",
   "metadata": {},
   "outputs": [],
   "source": [
    "### Vote \"hard\" ###"
   ]
  },
  {
   "cell_type": "code",
   "execution_count": 43,
   "id": "b853cfaf",
   "metadata": {},
   "outputs": [
    {
     "name": "stdout",
     "output_type": "stream",
     "text": [
      "multiclasse\n",
      "[[0.         0.46153846]\n",
      " [1.         0.42307692]\n",
      " [2.         0.5       ]\n",
      " [3.         0.5       ]\n",
      " [4.         0.53846154]\n",
      " [5.         0.38461538]\n",
      " [6.         0.46153846]\n",
      " [7.         0.5       ]\n",
      " [8.         0.57692308]\n",
      " [9.         0.46153846]]\n",
      "binaire 1\n",
      "[[0.         0.69230769]\n",
      " [1.         0.76923077]\n",
      " [2.         0.80769231]\n",
      " [3.         0.73076923]\n",
      " [4.         0.73076923]\n",
      " [5.         0.80769231]\n",
      " [6.         0.73076923]\n",
      " [7.         0.80769231]\n",
      " [8.         0.76923077]\n",
      " [9.         0.69230769]]\n",
      "binaire 2\n",
      "[[0.         0.73076923]\n",
      " [1.         0.84615385]\n",
      " [2.         0.84615385]\n",
      " [3.         0.84615385]\n",
      " [4.         0.80769231]\n",
      " [5.         0.84615385]\n",
      " [6.         0.84615385]\n",
      " [7.         0.84615385]\n",
      " [8.         0.88461538]\n",
      " [9.         0.92307692]]\n",
      "binaire 3\n",
      "[[0.         0.65384615]\n",
      " [1.         0.65384615]\n",
      " [2.         0.57692308]\n",
      " [3.         0.57692308]\n",
      " [4.         0.46153846]\n",
      " [5.         0.65384615]\n",
      " [6.         0.57692308]\n",
      " [7.         0.57692308]\n",
      " [8.         0.42307692]\n",
      " [9.         0.5       ]]\n",
      "multiclasse F_score : 0.4807692307692307\n",
      "binaire 1 F_score : 0.7538461538461538\n",
      "binaire 2 F_score : 0.8423076923076923\n",
      "binaire 3 F_score : 0.5653846153846154\n"
     ]
    },
    {
     "data": {
      "image/png": "[encoded data removed]",
      "text/plain": [
       "<Figure size 432x288 with 1 Axes>"
      ]
     },
     "metadata": {
      "needs_background": "light"
     },
     "output_type": "display_data"
    }
   ],
   "source": [
    "values = []\n",
    "n = -1\n",
    "for Y in labels:\n",
    "    n = n + 1\n",
    "    k_fold = 10\n",
    "    A = np.zeros((k_fold,2))             \n",
    "    l = -1\n",
    "\n",
    "    estimator = []\n",
    "    estimator.append(('MLP', MLPClassifier(alpha=1, random_state=123, max_iter=1000, activation = 'logistic'))),\n",
    "    estimator.append(('LR', LogisticRegression(solver='lbfgs', random_state=123, multi_class='multinomial'))) \n",
    "    estimator.append(('SVC1', SVC(kernel='rbf', C=1.0))) \n",
    "    estimator.append(('SVC2', SVC(gamma=2, C=1))) \n",
    "    estimator.append(('KNC', KNeighborsClassifier(n_neighbors=3))) \n",
    "    estimator.append(('GNB', GaussianNB()))  \n",
    "    estimator.append(('RCCV', RidgeClassifierCV(alphas=(0.1, 1.0, 10.0), fit_intercept =  False))) \n",
    "    estimator.append(('DTC', DecisionTreeClassifier(random_state=0))) \n",
    "    estimator.append(('ABC', AdaBoostClassifier()))          \n",
    "    \n",
    "    \n",
    "    for j in range(k_fold):\n",
    "        X_train, X_test, y_train, y_test = train_test_split(X, Y, train_size = 0.75, random_state=42+j)\n",
    "        vot_hard = VotingClassifier(estimators = estimator, voting ='hard') \n",
    "        vot_hard.fit(X_train, y_train) \n",
    "        y_pred = vot_hard.predict(X_test) \n",
    "        A[j,1] = f1_score(y_test, y_pred, average='micro')\n",
    "        A[j,0] = j\n",
    "    \n",
    "    print(names[n])\n",
    "    print(A)\n",
    "    F_score_value = []\n",
    "    for i in range(len(A)):\n",
    "        F_score_value.append(A[i,1])\n",
    "        \n",
    "    values.append(np.mean(F_score_value))\n",
    "    \n",
    "for name in range(len(names)):\n",
    "    print(names[name] + \" F_score : \" + str(values[name]))\n",
    "\n",
    "plt.bar(names, values)\n",
    "\n",
    "plt.show()"
   ]
  },
  {
   "cell_type": "code",
   "execution_count": 44,
   "id": "fed9bb3e",
   "metadata": {},
   "outputs": [],
   "source": [
    "### Vote \"soft\" ###"
   ]
  },
  {
   "cell_type": "code",
   "execution_count": 45,
   "id": "57e0cee1",
   "metadata": {},
   "outputs": [
    {
     "name": "stdout",
     "output_type": "stream",
     "text": [
      "multiclasse\n",
      "[[0.         0.46153846]\n",
      " [1.         0.42307692]\n",
      " [2.         0.5       ]\n",
      " [3.         0.46153846]\n",
      " [4.         0.5       ]\n",
      " [5.         0.46153846]\n",
      " [6.         0.46153846]\n",
      " [7.         0.46153846]\n",
      " [8.         0.61538462]\n",
      " [9.         0.5       ]]\n",
      "binaire 1\n",
      "[[0.         0.65384615]\n",
      " [1.         0.76923077]\n",
      " [2.         0.76923077]\n",
      " [3.         0.73076923]\n",
      " [4.         0.76923077]\n",
      " [5.         0.80769231]\n",
      " [6.         0.80769231]\n",
      " [7.         0.84615385]\n",
      " [8.         0.76923077]\n",
      " [9.         0.69230769]]\n",
      "binaire 2\n",
      "[[0.         0.73076923]\n",
      " [1.         0.80769231]\n",
      " [2.         0.84615385]\n",
      " [3.         0.84615385]\n",
      " [4.         0.80769231]\n",
      " [5.         0.84615385]\n",
      " [6.         0.84615385]\n",
      " [7.         0.84615385]\n",
      " [8.         0.88461538]\n",
      " [9.         0.92307692]]\n",
      "binaire 3\n",
      "[[0.         0.65384615]\n",
      " [1.         0.65384615]\n",
      " [2.         0.65384615]\n",
      " [3.         0.69230769]\n",
      " [4.         0.76923077]\n",
      " [5.         0.65384615]\n",
      " [6.         0.53846154]\n",
      " [7.         0.57692308]\n",
      " [8.         0.53846154]\n",
      " [9.         0.65384615]]\n",
      "multiclasse F_score : 0.48461538461538467\n",
      "binaire 1 F_score : 0.7615384615384616\n",
      "binaire 2 F_score : 0.8384615384615385\n",
      "binaire 3 F_score : 0.6384615384615385\n"
     ]
    },
    {
     "data": {
      "image/png": "[encoded data removed]",
      "text/plain": [
       "<Figure size 432x288 with 1 Axes>"
      ]
     },
     "metadata": {
      "needs_background": "light"
     },
     "output_type": "display_data"
    }
   ],
   "source": [
    "values = []\n",
    "n = -1\n",
    "for Y in labels:\n",
    "    n = n + 1\n",
    "    k_fold = 10\n",
    "    A = np.zeros((k_fold,2))             \n",
    "    l = -1\n",
    "\n",
    "    estimator = []\n",
    "    estimator.append(('MLP', MLPClassifier(alpha=1, random_state=123, max_iter=1000, activation = 'logistic'))),\n",
    "    estimator.append(('LR', LogisticRegression(solver='lbfgs', random_state=123, multi_class='multinomial'))) \n",
    "    estimator.append(('KNC', KNeighborsClassifier(n_neighbors=3))) \n",
    "    estimator.append(('GNB', GaussianNB()))  \n",
    "    estimator.append(('DTC', DecisionTreeClassifier(random_state=0))) \n",
    "    estimator.append(('ABC', AdaBoostClassifier()))       \n",
    "    \n",
    "    \n",
    "    for j in range(k_fold):\n",
    "        X_train, X_test, y_train, y_test = train_test_split(X, Y, train_size = 0.75, random_state=42+j)\n",
    "        vot_soft = VotingClassifier(estimators = estimator, voting ='soft') \n",
    "        vot_soft.fit(X_train, y_train) \n",
    "        y_pred = vot_soft.predict(X_test) \n",
    "        A[j,1] = f1_score(y_test, y_pred, average='micro')\n",
    "        A[j,0] = j\n",
    "    \n",
    "    print(names[n])\n",
    "    print(A)\n",
    "    F_score_value = []\n",
    "    for i in range(len(A)):\n",
    "        F_score_value.append(A[i,1])\n",
    "        \n",
    "    values.append(np.mean(F_score_value))\n",
    "    \n",
    "for name in range(len(names)):\n",
    "    print(names[name] + \" F_score : \" + str(values[name]))\n",
    "\n",
    "plt.bar(names, values)\n",
    "\n",
    "plt.show()"
   ]
  }
 ],
 "metadata": {
  "kernelspec": {
   "display_name": "Python 3 (ipykernel)",
   "language": "python",
   "name": "python3"
  },
  "language_info": {
   "codemirror_mode": {
    "name": "ipython",
    "version": 3
   },
   "file_extension": ".py",
   "mimetype": "text/x-python",
   "name": "python",
   "nbconvert_exporter": "python",
   "pygments_lexer": "ipython3",
   "version": "3.9.7"
  }
 },
 "nbformat": 4,
 "nbformat_minor": 5
}
