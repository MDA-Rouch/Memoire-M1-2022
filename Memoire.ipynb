{
 "cells": [
  {
   "cell_type": "code",
   "execution_count": 1,
   "id": "8feaa2e7",
   "metadata": {},
   "outputs": [],
   "source": [
    "################################\n",
    "### Import des bibliothèques ###\n",
    "################################"
   ]
  },
  {
   "cell_type": "code",
   "execution_count": 2,
   "id": "1efcdfe0",
   "metadata": {},
   "outputs": [],
   "source": [
    "import pandas as pd\n",
    "from sklearn.metrics import cohen_kappa_score\n",
    "import numpy as np\n",
    "import nltk\n",
    "from nltk.corpus import stopwords\n",
    "from nltk.stem import *\n",
    "from nltk.stem import WordNetLemmatizer\n",
    "import spacy\n",
    "from num2words import num2words\n",
    "from nltk.stem.snowball import FrenchStemmer\n"
   ]
  },
  {
   "cell_type": "code",
   "execution_count": 3,
   "id": "095c7870",
   "metadata": {},
   "outputs": [],
   "source": [
    "#######################################\n",
    "### Def des étapes de preprocessing ###\n",
    "#######################################"
   ]
  },
  {
   "cell_type": "code",
   "execution_count": 4,
   "id": "26c5b128",
   "metadata": {},
   "outputs": [],
   "source": [
    "def convertir_en_minuscule(data):\n",
    "    data_lowered = []\n",
    "    for text in data:\n",
    "        text_lowered = np.char.lower(text)\n",
    "        data_lowered.append(str(text_lowered))\n",
    "    return data_lowered"
   ]
  },
  {
   "cell_type": "code",
   "execution_count": 5,
   "id": "378c2283",
   "metadata": {},
   "outputs": [],
   "source": [
    "def retirer_mots_vides(data):\n",
    "    stop_words = stopwords.words('french')\n",
    "    clean_data = []\n",
    "    for text in data:\n",
    "        words = text.split()\n",
    "        new_text = \"\"\n",
    "        for word in words:\n",
    "            if word not in stop_words:\n",
    "                new_text = new_text + \" \" + word\n",
    "        clean_data.append(new_text)\n",
    "    return clean_data"
   ]
  },
  {
   "cell_type": "code",
   "execution_count": 6,
   "id": "79f2e797",
   "metadata": {},
   "outputs": [],
   "source": [
    "def retirer_ponctuation(data):\n",
    "    symbols = \"!\\\"#$%&()*+-./:;<=>?@[\\]^_`{|}~\\n,\"\n",
    "    clean_data = []\n",
    "    for text in data:\n",
    "        for i in symbols:\n",
    "            text = text.replace(i, ' ')\n",
    "        clean_data.append(text)\n",
    "    return clean_data"
   ]
  },
  {
   "cell_type": "code",
   "execution_count": 7,
   "id": "aedbe49d",
   "metadata": {},
   "outputs": [],
   "source": [
    "def retirer_apostrophe(data):\n",
    "    clean_data = []\n",
    "    for text in data:\n",
    "        text = text.replace(\"'\", \"\")\n",
    "        clean_data.append(text)\n",
    "    return clean_data"
   ]
  },
  {
   "cell_type": "code",
   "execution_count": 8,
   "id": "e7760fd9",
   "metadata": {},
   "outputs": [],
   "source": [
    "def retirer_caractere_unique(data):\n",
    "    clean_data = []\n",
    "    for text in data:\n",
    "        words = text.split()\n",
    "        new_text = \"\"\n",
    "        for word in words:\n",
    "            if len(word) > 1:\n",
    "                new_text = new_text + \" \" + word\n",
    "        clean_data.append(new_text)\n",
    "    return clean_data"
   ]
  },
  {
   "cell_type": "code",
   "execution_count": 9,
   "id": "78677a36",
   "metadata": {},
   "outputs": [],
   "source": [
    "def racinisation(data):\n",
    "    stemmer = FrenchStemmer()\n",
    "    clean_data = []\n",
    "    for text in data:\n",
    "        words = text.split()\n",
    "        new_text = \"\"\n",
    "        for word in words:\n",
    "            new_text = new_text + \" \" + stemmer.stem(word)\n",
    "        clean_data.append(new_text)\n",
    "    return clean_data\n"
   ]
  },
  {
   "cell_type": "code",
   "execution_count": 10,
   "id": "3b809dae",
   "metadata": {},
   "outputs": [],
   "source": [
    "def lemmatisation(data):\n",
    "    nlp = spacy.load('fr_core_news_md')\n",
    "    clean_data = []\n",
    "    for text in data:\n",
    "        doc = nlp(text)\n",
    "        new_text = \"\"\n",
    "        for word in doc:\n",
    "            new_text = new_text + \" \" + word.lemma_\n",
    "        clean_data.append(new_text)\n",
    "    return clean_data"
   ]
  },
  {
   "cell_type": "code",
   "execution_count": 11,
   "id": "0fe26d92",
   "metadata": {},
   "outputs": [],
   "source": [
    "def nombres_en_lettres(data):\n",
    "    clean_data = []\n",
    "    for text in data:\n",
    "        words = text.split()\n",
    "        new_text = \"\"\n",
    "        for word in words:\n",
    "            try:\n",
    "                num = num2words(word, lang='fr')\n",
    "                new_text = new_text + \" \" + num\n",
    "            except:\n",
    "                new_text = new_text + \" \" + word\n",
    "        clean_data.append(new_text)\n",
    "    return clean_data"
   ]
  },
  {
   "cell_type": "code",
   "execution_count": 12,
   "id": "27760ce4",
   "metadata": {},
   "outputs": [],
   "source": [
    "def retirer_accents(data):\n",
    "    e = \"éèëê\"\n",
    "    a = \"àâ\"\n",
    "    i = \"ïî\"\n",
    "    o = \"ô\"\n",
    "    u = \"ùû\"\n",
    "    clean_data = []\n",
    "    for text in data:\n",
    "        for x in e:\n",
    "            text = text.replace(x, 'e')\n",
    "        for x in a:\n",
    "            text = text.replace(x, 'a')\n",
    "        for x in i:\n",
    "            text = text.replace(x, 'i')\n",
    "        for x in o:\n",
    "            text = text.replace(x, 'o')\n",
    "        for x in u:\n",
    "            text = text.replace(x, 'u')\n",
    "        clean_data.append(text)\n",
    "    return clean_data"
   ]
  },
  {
   "cell_type": "code",
   "execution_count": 13,
   "id": "ec68d591",
   "metadata": {},
   "outputs": [],
   "source": [
    "#########################\n",
    "### def Preprocessing ###\n",
    "#########################"
   ]
  },
  {
   "cell_type": "code",
   "execution_count": 14,
   "id": "3f56f1a0",
   "metadata": {},
   "outputs": [],
   "source": [
    "#On transforme les nombres en lettres avant de retirer les caractères uniques pour éviter de perdre les nombres composé d'un seul\n",
    "#chiffres\n",
    "#On retire les accents car le texte est en français\n",
    "\n",
    "def pretraitement(data):\n",
    "    data = convertir_en_minuscule(data)\n",
    "    data = retirer_ponctuation(data)\n",
    "    data = retirer_apostrophe(data)\n",
    "    data = retirer_accents(data)\n",
    "    data = nombres_en_lettres(data)\n",
    "    data = retirer_caractere_unique(data)\n",
    "    data = retirer_mots_vides(data)\n",
    "    data = lemmatisation(data)\n",
    "    return data"
   ]
  },
  {
   "cell_type": "code",
   "execution_count": 15,
   "id": "7cd5995e",
   "metadata": {},
   "outputs": [],
   "source": [
    "###############################\n",
    "#### Import Base de données ###\n",
    "###############################"
   ]
  },
  {
   "cell_type": "code",
   "execution_count": 16,
   "id": "22e07f84",
   "metadata": {},
   "outputs": [
    {
     "data": {
      "text/html": [
       "<div>\n",
       "<style scoped>\n",
       "    .dataframe tbody tr th:only-of-type {\n",
       "        vertical-align: middle;\n",
       "    }\n",
       "\n",
       "    .dataframe tbody tr th {\n",
       "        vertical-align: top;\n",
       "    }\n",
       "\n",
       "    .dataframe thead th {\n",
       "        text-align: right;\n",
       "    }\n",
       "</style>\n",
       "<table border=\"1\" class=\"dataframe\">\n",
       "  <thead>\n",
       "    <tr style=\"text-align: right;\">\n",
       "      <th></th>\n",
       "      <th>commentaire</th>\n",
       "      <th>note</th>\n",
       "      <th>note_eval</th>\n",
       "    </tr>\n",
       "  </thead>\n",
       "  <tbody>\n",
       "    <tr>\n",
       "      <th>0</th>\n",
       "      <td>Netflix ne considère pas ses clients Le servic...</td>\n",
       "      <td>1</td>\n",
       "      <td>1</td>\n",
       "    </tr>\n",
       "    <tr>\n",
       "      <th>1</th>\n",
       "      <td>Toujours pareil les mêmes films séries C'est u...</td>\n",
       "      <td>2</td>\n",
       "      <td>2</td>\n",
       "    </tr>\n",
       "    <tr>\n",
       "      <th>2</th>\n",
       "      <td>j'adore tout simplement. juste un peu cher à m...</td>\n",
       "      <td>4</td>\n",
       "      <td>4</td>\n",
       "    </tr>\n",
       "    <tr>\n",
       "      <th>3</th>\n",
       "      <td>J'avais le forfait standard avec une image de ...</td>\n",
       "      <td>1</td>\n",
       "      <td>1</td>\n",
       "    </tr>\n",
       "    <tr>\n",
       "      <th>4</th>\n",
       "      <td>Des voleurs Tout simplement, des voleurs. Surv...</td>\n",
       "      <td>1</td>\n",
       "      <td>1</td>\n",
       "    </tr>\n",
       "    <tr>\n",
       "      <th>...</th>\n",
       "      <td>...</td>\n",
       "      <td>...</td>\n",
       "      <td>...</td>\n",
       "    </tr>\n",
       "    <tr>\n",
       "      <th>97</th>\n",
       "      <td>On parle de Netflix et ses séries \"originales\"...</td>\n",
       "      <td>5</td>\n",
       "      <td>5</td>\n",
       "    </tr>\n",
       "    <tr>\n",
       "      <th>98</th>\n",
       "      <td>SUITE ET FIN FLIXBIP et oui le respect des oeu...</td>\n",
       "      <td>1</td>\n",
       "      <td>3</td>\n",
       "    </tr>\n",
       "    <tr>\n",
       "      <th>99</th>\n",
       "      <td>certes c est bien on peut regarder des films o...</td>\n",
       "      <td>1</td>\n",
       "      <td>3</td>\n",
       "    </tr>\n",
       "    <tr>\n",
       "      <th>100</th>\n",
       "      <td>Vraiment Netflix au TOP qualité, quantité, tre...</td>\n",
       "      <td>5</td>\n",
       "      <td>5</td>\n",
       "    </tr>\n",
       "    <tr>\n",
       "      <th>101</th>\n",
       "      <td>Regarder des films en streaming Si vous aimez ...</td>\n",
       "      <td>5</td>\n",
       "      <td>4</td>\n",
       "    </tr>\n",
       "  </tbody>\n",
       "</table>\n",
       "<p>102 rows × 3 columns</p>\n",
       "</div>"
      ],
      "text/plain": [
       "                                           commentaire  note  note_eval\n",
       "0    Netflix ne considère pas ses clients Le servic...     1          1\n",
       "1    Toujours pareil les mêmes films séries C'est u...     2          2\n",
       "2    j'adore tout simplement. juste un peu cher à m...     4          4\n",
       "3    J'avais le forfait standard avec une image de ...     1          1\n",
       "4    Des voleurs Tout simplement, des voleurs. Surv...     1          1\n",
       "..                                                 ...   ...        ...\n",
       "97   On parle de Netflix et ses séries \"originales\"...     5          5\n",
       "98   SUITE ET FIN FLIXBIP et oui le respect des oeu...     1          3\n",
       "99   certes c est bien on peut regarder des films o...     1          3\n",
       "100  Vraiment Netflix au TOP qualité, quantité, tre...     5          5\n",
       "101  Regarder des films en streaming Si vous aimez ...     5          4\n",
       "\n",
       "[102 rows x 3 columns]"
      ]
     },
     "execution_count": 16,
     "metadata": {},
     "output_type": "execute_result"
    }
   ],
   "source": [
    "#la colonne \"commentaire\" contient les commentaires des consommateurs, la colonne \"note\" contient les \n",
    "#notes accompagnant les commentaires et la colonne \"note_eval\" les notes attribués aux commentaires\n",
    "#par un évaluateur\n",
    "\n",
    "bdd = pd.read_csv(\"avis_netflix.csv\", sep=\";\")\n",
    "bdd"
   ]
  },
  {
   "cell_type": "code",
   "execution_count": 17,
   "id": "d3aad3a0",
   "metadata": {},
   "outputs": [],
   "source": [
    "#Création d'une variable différenciant les commentaires positifs (note de 4 ou 5) des commentaires\n",
    "#négatifs (note de 1 à 3)\n",
    "\n",
    "binary = []\n",
    "for i in bdd['note']:\n",
    "    if i > 3:\n",
    "        binary.append(True)\n",
    "    else:\n",
    "        binary.append(False)"
   ]
  },
  {
   "cell_type": "code",
   "execution_count": 18,
   "id": "06c33674",
   "metadata": {},
   "outputs": [],
   "source": [
    "#Création d'une variable différenciant les commentaires ayant la note de 5 des autres commentaires\n",
    "\n",
    "binary_pos = []\n",
    "for i in bdd['note']:\n",
    "    if i == 5:\n",
    "        binary_pos.append(True)\n",
    "    else:\n",
    "        binary_pos.append(False)"
   ]
  },
  {
   "cell_type": "code",
   "execution_count": 19,
   "id": "dd3785f1",
   "metadata": {},
   "outputs": [],
   "source": [
    "#Création d'une variable différenciant les commentaires ayant la note de 1 des autres commentaires\n",
    "\n",
    "binary_neg = []\n",
    "for i in bdd['note']:\n",
    "    if i == 1:\n",
    "        binary_neg.append(True)\n",
    "    else:\n",
    "        binary_neg.append(False)"
   ]
  },
  {
   "cell_type": "code",
   "execution_count": 20,
   "id": "242271d7",
   "metadata": {},
   "outputs": [],
   "source": [
    "################################\n",
    "### Base de données complète ###\n",
    "################################"
   ]
  },
  {
   "cell_type": "code",
   "execution_count": 21,
   "id": "0b73d0d4",
   "metadata": {},
   "outputs": [
    {
     "data": {
      "text/html": [
       "<div>\n",
       "<style scoped>\n",
       "    .dataframe tbody tr th:only-of-type {\n",
       "        vertical-align: middle;\n",
       "    }\n",
       "\n",
       "    .dataframe tbody tr th {\n",
       "        vertical-align: top;\n",
       "    }\n",
       "\n",
       "    .dataframe thead th {\n",
       "        text-align: right;\n",
       "    }\n",
       "</style>\n",
       "<table border=\"1\" class=\"dataframe\">\n",
       "  <thead>\n",
       "    <tr style=\"text-align: right;\">\n",
       "      <th></th>\n",
       "      <th>commentaire</th>\n",
       "      <th>note</th>\n",
       "      <th>note_eval</th>\n",
       "      <th>binary</th>\n",
       "      <th>binary_neg</th>\n",
       "      <th>binary_pos</th>\n",
       "    </tr>\n",
       "  </thead>\n",
       "  <tbody>\n",
       "    <tr>\n",
       "      <th>0</th>\n",
       "      <td>Netflix ne considère pas ses clients Le servic...</td>\n",
       "      <td>1</td>\n",
       "      <td>1</td>\n",
       "      <td>False</td>\n",
       "      <td>True</td>\n",
       "      <td>False</td>\n",
       "    </tr>\n",
       "    <tr>\n",
       "      <th>1</th>\n",
       "      <td>Toujours pareil les mêmes films séries C'est u...</td>\n",
       "      <td>2</td>\n",
       "      <td>2</td>\n",
       "      <td>False</td>\n",
       "      <td>False</td>\n",
       "      <td>False</td>\n",
       "    </tr>\n",
       "    <tr>\n",
       "      <th>2</th>\n",
       "      <td>j'adore tout simplement. juste un peu cher à m...</td>\n",
       "      <td>4</td>\n",
       "      <td>4</td>\n",
       "      <td>True</td>\n",
       "      <td>False</td>\n",
       "      <td>False</td>\n",
       "    </tr>\n",
       "    <tr>\n",
       "      <th>3</th>\n",
       "      <td>J'avais le forfait standard avec une image de ...</td>\n",
       "      <td>1</td>\n",
       "      <td>1</td>\n",
       "      <td>False</td>\n",
       "      <td>True</td>\n",
       "      <td>False</td>\n",
       "    </tr>\n",
       "    <tr>\n",
       "      <th>4</th>\n",
       "      <td>Des voleurs Tout simplement, des voleurs. Surv...</td>\n",
       "      <td>1</td>\n",
       "      <td>1</td>\n",
       "      <td>False</td>\n",
       "      <td>True</td>\n",
       "      <td>False</td>\n",
       "    </tr>\n",
       "    <tr>\n",
       "      <th>...</th>\n",
       "      <td>...</td>\n",
       "      <td>...</td>\n",
       "      <td>...</td>\n",
       "      <td>...</td>\n",
       "      <td>...</td>\n",
       "      <td>...</td>\n",
       "    </tr>\n",
       "    <tr>\n",
       "      <th>97</th>\n",
       "      <td>On parle de Netflix et ses séries \"originales\"...</td>\n",
       "      <td>5</td>\n",
       "      <td>5</td>\n",
       "      <td>True</td>\n",
       "      <td>False</td>\n",
       "      <td>True</td>\n",
       "    </tr>\n",
       "    <tr>\n",
       "      <th>98</th>\n",
       "      <td>SUITE ET FIN FLIXBIP et oui le respect des oeu...</td>\n",
       "      <td>1</td>\n",
       "      <td>3</td>\n",
       "      <td>False</td>\n",
       "      <td>True</td>\n",
       "      <td>False</td>\n",
       "    </tr>\n",
       "    <tr>\n",
       "      <th>99</th>\n",
       "      <td>certes c est bien on peut regarder des films o...</td>\n",
       "      <td>1</td>\n",
       "      <td>3</td>\n",
       "      <td>False</td>\n",
       "      <td>True</td>\n",
       "      <td>False</td>\n",
       "    </tr>\n",
       "    <tr>\n",
       "      <th>100</th>\n",
       "      <td>Vraiment Netflix au TOP qualité, quantité, tre...</td>\n",
       "      <td>5</td>\n",
       "      <td>5</td>\n",
       "      <td>True</td>\n",
       "      <td>False</td>\n",
       "      <td>True</td>\n",
       "    </tr>\n",
       "    <tr>\n",
       "      <th>101</th>\n",
       "      <td>Regarder des films en streaming Si vous aimez ...</td>\n",
       "      <td>5</td>\n",
       "      <td>4</td>\n",
       "      <td>True</td>\n",
       "      <td>False</td>\n",
       "      <td>True</td>\n",
       "    </tr>\n",
       "  </tbody>\n",
       "</table>\n",
       "<p>102 rows × 6 columns</p>\n",
       "</div>"
      ],
      "text/plain": [
       "                                           commentaire  note  note_eval  \\\n",
       "0    Netflix ne considère pas ses clients Le servic...     1          1   \n",
       "1    Toujours pareil les mêmes films séries C'est u...     2          2   \n",
       "2    j'adore tout simplement. juste un peu cher à m...     4          4   \n",
       "3    J'avais le forfait standard avec une image de ...     1          1   \n",
       "4    Des voleurs Tout simplement, des voleurs. Surv...     1          1   \n",
       "..                                                 ...   ...        ...   \n",
       "97   On parle de Netflix et ses séries \"originales\"...     5          5   \n",
       "98   SUITE ET FIN FLIXBIP et oui le respect des oeu...     1          3   \n",
       "99   certes c est bien on peut regarder des films o...     1          3   \n",
       "100  Vraiment Netflix au TOP qualité, quantité, tre...     5          5   \n",
       "101  Regarder des films en streaming Si vous aimez ...     5          4   \n",
       "\n",
       "     binary  binary_neg  binary_pos  \n",
       "0     False        True       False  \n",
       "1     False       False       False  \n",
       "2      True       False       False  \n",
       "3     False        True       False  \n",
       "4     False        True       False  \n",
       "..      ...         ...         ...  \n",
       "97     True       False        True  \n",
       "98    False        True       False  \n",
       "99    False        True       False  \n",
       "100    True       False        True  \n",
       "101    True       False        True  \n",
       "\n",
       "[102 rows x 6 columns]"
      ]
     },
     "execution_count": 21,
     "metadata": {},
     "output_type": "execute_result"
    }
   ],
   "source": [
    "bdd['binary'] = binary\n",
    "bdd['binary_neg'] = binary_neg\n",
    "bdd['binary_pos'] = binary_pos\n",
    "bdd"
   ]
  },
  {
   "cell_type": "code",
   "execution_count": 22,
   "id": "901cdcb2",
   "metadata": {},
   "outputs": [],
   "source": [
    "#################################\n",
    "#### Calcul du Kappa de Cohen ###\n",
    "#################################\n"
   ]
  },
  {
   "cell_type": "code",
   "execution_count": 23,
   "id": "3bee9916",
   "metadata": {},
   "outputs": [],
   "source": [
    "y_true = list(bdd[\"note\"])\n",
    "y_pred = list(bdd[\"note_eval\"])"
   ]
  },
  {
   "cell_type": "code",
   "execution_count": 24,
   "id": "4882251f",
   "metadata": {},
   "outputs": [
    {
     "data": {
      "text/plain": [
       "0.6359000509943906"
      ]
     },
     "execution_count": 24,
     "metadata": {},
     "output_type": "execute_result"
    }
   ],
   "source": [
    "#y_true contient les notes des avis et y_pred contient les notes attribuées par l'évaluateur\n",
    "\n",
    "cohen_kappa_score(y_true, y_pred)"
   ]
  },
  {
   "cell_type": "code",
   "execution_count": 25,
   "id": "5b13cd3c",
   "metadata": {},
   "outputs": [],
   "source": [
    "### Accord compris entre 0.61 et 0.8 => accord fort"
   ]
  },
  {
   "cell_type": "code",
   "execution_count": 26,
   "id": "53d38c4a",
   "metadata": {},
   "outputs": [],
   "source": [
    "#####################\n",
    "### Preprocessing ###\n",
    "#####################"
   ]
  },
  {
   "cell_type": "code",
   "execution_count": 27,
   "id": "6ab4c5ab",
   "metadata": {},
   "outputs": [],
   "source": [
    "data = list(bdd['commentaire'].astype(str))"
   ]
  },
  {
   "cell_type": "code",
   "execution_count": 28,
   "id": "b7c2bf0b",
   "metadata": {},
   "outputs": [
    {
     "name": "stderr",
     "output_type": "stream",
     "text": [
      "C:\\Users\\diuky\\anaconda3\\lib\\site-packages\\spacy\\util.py:833: UserWarning: [W095] Model 'fr_core_news_md' (3.1.0) was trained with spaCy v3.1 and may not be 100% compatible with the current version (3.2.4). If you see errors or degraded performance, download a newer compatible model or retrain your custom model with the current spaCy version. For more details and available updates, run: python -m spacy validate\n",
      "  warnings.warn(warn_msg)\n"
     ]
    }
   ],
   "source": [
    "data = pretraitement(data)"
   ]
  },
  {
   "cell_type": "code",
   "execution_count": 29,
   "id": "7e48b634",
   "metadata": {},
   "outputs": [],
   "source": [
    "########################\n",
    "### calcul du TF-IDF ###\n",
    "########################\n"
   ]
  },
  {
   "cell_type": "code",
   "execution_count": 30,
   "id": "63c505d1",
   "metadata": {},
   "outputs": [],
   "source": [
    "DF = {}\n",
    "for i in range(len(data)):\n",
    "    tokens = data[i].split()\n",
    "    for w in tokens:\n",
    "        try:\n",
    "            DF[w].add(i)\n",
    "        except:\n",
    "            DF[w] = {i}\n",
    "for i in DF:\n",
    "    DF[i] = len(DF[i])"
   ]
  },
  {
   "cell_type": "code",
   "execution_count": 31,
   "id": "aefc1a8b",
   "metadata": {},
   "outputs": [
    {
     "name": "stdout",
     "output_type": "stream",
     "text": [
      "1094\n"
     ]
    }
   ],
   "source": [
    "total_vocab = [x for x in DF]\n",
    "print(len(total_vocab))"
   ]
  },
  {
   "cell_type": "code",
   "execution_count": 32,
   "id": "a263cc47",
   "metadata": {},
   "outputs": [],
   "source": [
    "tf_idf = {}\n",
    "for i in range(len(data)):\n",
    "    tokens = data[i].split()\n",
    "    for token in np.unique(tokens):\n",
    "        tf = tokens.count(token)/len(tokens)\n",
    "        df = DF[(token)]\n",
    "        idf = np.log(len(data)/(df))\n",
    "        tf_idf[i, token] = tf*idf"
   ]
  },
  {
   "cell_type": "code",
   "execution_count": 34,
   "id": "3e11293a",
   "metadata": {},
   "outputs": [],
   "source": [
    "####################################################\n",
    "### Vectorisation des commentaires consommateurs ###\n",
    "####################################################"
   ]
  },
  {
   "cell_type": "code",
   "execution_count": 35,
   "id": "09082a2d",
   "metadata": {},
   "outputs": [],
   "source": [
    "D = np.zeros((len(data), len(total_vocab)))\n",
    "for i in tf_idf:\n",
    "    ind = total_vocab.index(i[1])\n",
    "    D[i[0]][ind] = tf_idf[i]"
   ]
  },
  {
   "cell_type": "code",
   "execution_count": 36,
   "id": "e98f8dab",
   "metadata": {},
   "outputs": [
    {
     "name": "stdout",
     "output_type": "stream",
     "text": [
      "(102, 1094)\n",
      "[[0.06636095 0.3854144  0.66976567 ... 0.         0.         0.        ]\n",
      " [0.         0.         0.         ... 0.         0.         0.        ]\n",
      " [0.         0.         0.         ... 0.         0.         0.        ]\n",
      " ...\n",
      " [0.         0.         0.         ... 0.         0.         0.        ]\n",
      " [0.04684302 0.         0.         ... 0.27205722 0.27205722 0.        ]\n",
      " [0.         0.         0.         ... 0.         0.         0.42045207]]\n"
     ]
    }
   ],
   "source": [
    "print(D.shape)\n",
    "print(D)"
   ]
  },
  {
   "cell_type": "code",
   "execution_count": 37,
   "id": "9b72bec9",
   "metadata": {},
   "outputs": [],
   "source": [
    "#####################################################\n",
    "### Classification et visualisation des résultats ###\n",
    "#####################################################"
   ]
  },
  {
   "cell_type": "code",
   "execution_count": 38,
   "id": "95f44416",
   "metadata": {},
   "outputs": [],
   "source": [
    "from sklearn.neural_network import MLPClassifier\n",
    "from sklearn.linear_model import LogisticRegression\n",
    "from sklearn.discriminant_analysis import LinearDiscriminantAnalysis\n",
    "from sklearn.svm import SVC\n",
    "from sklearn.neighbors import KNeighborsClassifier\n",
    "from sklearn.naive_bayes import GaussianNB\n",
    "from sklearn.linear_model import RidgeClassifierCV\n",
    "from sklearn.tree import DecisionTreeClassifier\n",
    "from sklearn.ensemble import AdaBoostClassifier\n",
    "from sklearn.discriminant_analysis import QuadraticDiscriminantAnalysis\n",
    "from sklearn.model_selection import train_test_split\n",
    "from sklearn.metrics import f1_score\n",
    "import matplotlib.pyplot as plt\n",
    "from sklearn.ensemble import VotingClassifier  "
   ]
  },
  {
   "cell_type": "code",
   "execution_count": 39,
   "id": "90d1e8a2",
   "metadata": {},
   "outputs": [],
   "source": [
    "X = D\n",
    "y_1 = bdd['note']\n",
    "y_2 = bdd['binary']\n",
    "y_3 = bdd['binary_pos']\n",
    "y_4 = bdd['binary_neg']\n",
    "\n",
    "labels = [y_1, y_2, y_3, y_4]\n",
    "names = ['multiclasse', 'binaire 1', 'binaire 2', 'binaire 3']\n",
    "values = []"
   ]
  },
  {
   "cell_type": "code",
   "execution_count": 40,
   "id": "1df78ec1",
   "metadata": {},
   "outputs": [],
   "source": [
    "### Résultats moyens des classifiers ###"
   ]
  },
  {
   "cell_type": "code",
   "execution_count": 41,
   "id": "be86ae03",
   "metadata": {},
   "outputs": [
    {
     "name": "stdout",
     "output_type": "stream",
     "text": [
      "multiclasse\n",
      "moyenne / standard deviation\n",
      "[[0.         0.41025641 0.09763812]\n",
      " [1.         0.4017094  0.02634365]\n",
      " [2.         0.5        0.01813094]\n",
      " [3.         0.4957265  0.03364961]\n",
      " [4.         0.51282051 0.05128205]\n",
      " [5.         0.40598291 0.05765272]\n",
      " [6.         0.42735043 0.10945512]\n",
      " [7.         0.47863248 0.06309753]\n",
      " [8.         0.51282051 0.1132277 ]\n",
      " [9.         0.43589744 0.03626189]]\n",
      "binaire 1\n",
      "moyenne / standard deviation\n",
      "[[0.         0.67521368 0.04482089]\n",
      " [1.         0.73931624 0.03021824]\n",
      " [2.         0.8034188  0.02834722]\n",
      " [3.         0.73931624 0.02417459]\n",
      " [4.         0.75213675 0.04482089]\n",
      " [5.         0.7991453  0.07856742]\n",
      " [6.         0.76068376 0.03963085]\n",
      " [7.         0.77350427 0.09323686]\n",
      " [8.         0.79487179 0.04796997]\n",
      " [9.         0.69230769 0.04796997]]\n",
      "binaire 2\n",
      "moyenne / standard deviation\n",
      "[[0.         0.72649573 0.02834722]\n",
      " [1.         0.82905983 0.01911169]\n",
      " [2.         0.83760684 0.01598999]\n",
      " [3.         0.82478632 0.02634365]\n",
      " [4.         0.81196581 0.0120873 ]\n",
      " [5.         0.83760684 0.03021824]\n",
      " [6.         0.82478632 0.05472756]\n",
      " [7.         0.85470085 0.01598999]\n",
      " [8.         0.86752137 0.02634365]\n",
      " [9.         0.90598291 0.03676207]]\n",
      "binaire 3\n",
      "moyenne / standard deviation\n",
      "[[0.         0.58974359 0.08695295]\n",
      " [1.         0.60683761 0.10058634]\n",
      " [2.         0.59401709 0.09085595]\n",
      " [3.         0.54700855 0.04358136]\n",
      " [4.         0.57692308 0.12429948]\n",
      " [5.         0.5982906  0.03676207]\n",
      " [6.         0.58974359 0.06537205]\n",
      " [7.         0.56837607 0.07201837]\n",
      " [8.         0.51709402 0.099491  ]\n",
      " [9.         0.57264957 0.04602705]]\n",
      "multiclasse F_score : 0.4581196581196581\n",
      "binaire 1 F_score : 0.752991452991453\n",
      "binaire 2 F_score : 0.8320512820512821\n",
      "binaire 3 F_score : 0.576068376068376\n"
     ]
    },
    {
     "data": {
      "image/png": "[encoded data removed]",
      "text/plain": [
       "<Figure size 432x288 with 1 Axes>"
      ]
     },
     "metadata": {
      "needs_background": "light"
     },
     "output_type": "display_data"
    }
   ],
   "source": [
    "n = -1\n",
    "for Y in labels:\n",
    "    n = n + 1\n",
    "    k_fold = 10\n",
    "    A = np.zeros((k_fold,3))             \n",
    "    l = -1\n",
    "\n",
    "    ensemble_nonlin = np.zeros((9,k_fold)) # 9 classifiers\n",
    "    models = [MLPClassifier(alpha=1, random_state=123, max_iter=1000, activation = 'logistic'),\n",
    "          LogisticRegression(solver='lbfgs', random_state=123, multi_class='multinomial'),\n",
    "          SVC(kernel='rbf', C=1.0),\n",
    "          SVC(gamma=2, C=1),\n",
    "          KNeighborsClassifier(n_neighbors=3),\n",
    "          GaussianNB(),\n",
    "          RidgeClassifierCV(alphas=(0.1, 1.0, 10.0), fit_intercept =  False),\n",
    "          DecisionTreeClassifier(random_state=0),\n",
    "          AdaBoostClassifier()\n",
    "          ]\n",
    "\n",
    "    for j in range(k_fold):\n",
    "        l = l+1\n",
    "        i=-1\n",
    "        X_train, X_test, y_train, y_test = train_test_split(X, Y, train_size=0.75, random_state=42+j)\n",
    "        for clf in models:\n",
    "            i = i+1\n",
    "            clf.fit(X_train, y_train)\n",
    "            y_pred = clf.predict(X_test)\n",
    "            ensemble_nonlin[i,j] = f1_score(y_test, y_pred, average='micro')\n",
    "\n",
    "        A[l,0] = l\n",
    "\n",
    "        A[l,1] = np.mean(ensemble_nonlin[:,j]) # moyenne F1\n",
    "\n",
    "        A[l,2] = np.std(ensemble_nonlin[:,j]) # ecart type F1\n",
    "    print(names[n])    \n",
    "    print(\"moyenne / standard deviation\")\n",
    "    print(A)\n",
    "    F_score_value = []\n",
    "    for i in range(len(A)):\n",
    "        F_score_value.append(A[i,1])\n",
    "        \n",
    "    values.append(np.mean(F_score_value))\n",
    "    \n",
    "for name in range(len(names)):\n",
    "    print(names[name] + \" F_score : \" + str(values[name]))\n",
    "\n",
    "plt.bar(names, values)\n",
    "\n",
    "plt.show()"
   ]
  },
  {
   "cell_type": "code",
   "execution_count": 42,
   "id": "26295c69",
   "metadata": {},
   "outputs": [],
   "source": [
    "### Vote \"hard\" ###"
   ]
  },
  {
   "cell_type": "code",
   "execution_count": 43,
   "id": "b853cfaf",
   "metadata": {},
   "outputs": [
    {
     "name": "stdout",
     "output_type": "stream",
     "text": [
      "multiclasse\n",
      "[[0.         0.46153846]\n",
      " [1.         0.42307692]\n",
      " [2.         0.5       ]\n",
      " [3.         0.5       ]\n",
      " [4.         0.53846154]\n",
      " [5.         0.38461538]\n",
      " [6.         0.46153846]\n",
      " [7.         0.5       ]\n",
      " [8.         0.57692308]\n",
      " [9.         0.46153846]]\n",
      "binaire 1\n",
      "[[0.         0.69230769]\n",
      " [1.         0.76923077]\n",
      " [2.         0.80769231]\n",
      " [3.         0.73076923]\n",
      " [4.         0.73076923]\n",
      " [5.         0.80769231]\n",
      " [6.         0.73076923]\n",
      " [7.         0.80769231]\n",
      " [8.         0.76923077]\n",
      " [9.         0.69230769]]\n",
      "binaire 2\n",
      "[[0.         0.73076923]\n",
      " [1.         0.84615385]\n",
      " [2.         0.84615385]\n",
      " [3.         0.84615385]\n",
      " [4.         0.80769231]\n",
      " [5.         0.84615385]\n",
      " [6.         0.84615385]\n",
      " [7.         0.84615385]\n",
      " [8.         0.88461538]\n",
      " [9.         0.92307692]]\n",
      "binaire 3\n",
      "[[0.         0.65384615]\n",
      " [1.         0.65384615]\n",
      " [2.         0.57692308]\n",
      " [3.         0.57692308]\n",
      " [4.         0.46153846]\n",
      " [5.         0.65384615]\n",
      " [6.         0.57692308]\n",
      " [7.         0.57692308]\n",
      " [8.         0.42307692]\n",
      " [9.         0.5       ]]\n",
      "multiclasse F_score : 0.4807692307692307\n",
      "binaire 1 F_score : 0.7538461538461538\n",
      "binaire 2 F_score : 0.8423076923076923\n",
      "binaire 3 F_score : 0.5653846153846154\n"
     ]
    },
    {
     "data": {
      "image/png": "[encoded data removed]",
      "text/plain": [
       "<Figure size 432x288 with 1 Axes>"
      ]
     },
     "metadata": {
      "needs_background": "light"
     },
     "output_type": "display_data"
    }
   ],
   "source": [
    "values = []\n",
    "n = -1\n",
    "for Y in labels:\n",
    "    n = n + 1\n",
    "    k_fold = 10\n",
    "    A = np.zeros((k_fold,2))             \n",
    "    l = -1\n",
    "\n",
    "    estimator = []\n",
    "    estimator.append(('MLP', MLPClassifier(alpha=1, random_state=123, max_iter=1000, activation = 'logistic'))),\n",
    "    estimator.append(('LR', LogisticRegression(solver='lbfgs', random_state=123, multi_class='multinomial'))) \n",
    "    estimator.append(('SVC1', SVC(kernel='rbf', C=1.0))) \n",
    "    estimator.append(('SVC2', SVC(gamma=2, C=1))) \n",
    "    estimator.append(('KNC', KNeighborsClassifier(n_neighbors=3))) \n",
    "    estimator.append(('GNB', GaussianNB()))  \n",
    "    estimator.append(('RCCV', RidgeClassifierCV(alphas=(0.1, 1.0, 10.0), fit_intercept =  False))) \n",
    "    estimator.append(('DTC', DecisionTreeClassifier(random_state=0))) \n",
    "    estimator.append(('ABC', AdaBoostClassifier()))          \n",
    "    \n",
    "    \n",
    "    for j in range(k_fold):\n",
    "        X_train, X_test, y_train, y_test = train_test_split(X, Y, train_size = 0.75, random_state=42+j)\n",
    "        vot_hard = VotingClassifier(estimators = estimator, voting ='hard') \n",
    "        vot_hard.fit(X_train, y_train) \n",
    "        y_pred = vot_hard.predict(X_test) \n",
    "        A[j,1] = f1_score(y_test, y_pred, average='micro')\n",
    "        A[j,0] = j\n",
    "    \n",
    "    print(names[n])\n",
    "    print(A)\n",
    "    F_score_value = []\n",
    "    for i in range(len(A)):\n",
    "        F_score_value.append(A[i,1])\n",
    "        \n",
    "    values.append(np.mean(F_score_value))\n",
    "    \n",
    "for name in range(len(names)):\n",
    "    print(names[name] + \" F_score : \" + str(values[name]))\n",
    "\n",
    "plt.bar(names, values)\n",
    "\n",
    "plt.show()"
   ]
  },
  {
   "cell_type": "code",
   "execution_count": 44,
   "id": "fed9bb3e",
   "metadata": {},
   "outputs": [],
   "source": [
    "### Vote \"soft\" ###"
   ]
  },
  {
   "cell_type": "code",
   "execution_count": 45,
   "id": "57e0cee1",
   "metadata": {},
   "outputs": [
    {
     "name": "stdout",
     "output_type": "stream",
     "text": [
      "multiclasse\n",
      "[[0.         0.46153846]\n",
      " [1.         0.42307692]\n",
      " [2.         0.5       ]\n",
      " [3.         0.46153846]\n",
      " [4.         0.5       ]\n",
      " [5.         0.46153846]\n",
      " [6.         0.46153846]\n",
      " [7.         0.46153846]\n",
      " [8.         0.61538462]\n",
      " [9.         0.5       ]]\n",
      "binaire 1\n",
      "[[0.         0.65384615]\n",
      " [1.         0.76923077]\n",
      " [2.         0.76923077]\n",
      " [3.         0.73076923]\n",
      " [4.         0.76923077]\n",
      " [5.         0.80769231]\n",
      " [6.         0.80769231]\n",
      " [7.         0.84615385]\n",
      " [8.         0.76923077]\n",
      " [9.         0.69230769]]\n",
      "binaire 2\n",
      "[[0.         0.73076923]\n",
      " [1.         0.80769231]\n",
      " [2.         0.84615385]\n",
      " [3.         0.84615385]\n",
      " [4.         0.80769231]\n",
      " [5.         0.84615385]\n",
      " [6.         0.84615385]\n",
      " [7.         0.84615385]\n",
      " [8.         0.88461538]\n",
      " [9.         0.92307692]]\n",
      "binaire 3\n",
      "[[0.         0.65384615]\n",
      " [1.         0.65384615]\n",
      " [2.         0.65384615]\n",
      " [3.         0.69230769]\n",
      " [4.         0.76923077]\n",
      " [5.         0.65384615]\n",
      " [6.         0.53846154]\n",
      " [7.         0.57692308]\n",
      " [8.         0.53846154]\n",
      " [9.         0.65384615]]\n",
      "multiclasse F_score : 0.48461538461538467\n",
      "binaire 1 F_score : 0.7615384615384616\n",
      "binaire 2 F_score : 0.8384615384615385\n",
      "binaire 3 F_score : 0.6384615384615385\n"
     ]
    },
    {
     "data": {
      "image/png": "[encoded data removed]",
      "text/plain": [
       "<Figure size 432x288 with 1 Axes>"
      ]
     },
     "metadata": {
      "needs_background": "light"
     },
     "output_type": "display_data"
    }
   ],
   "source": [
    "values = []\n",
    "n = -1\n",
    "for Y in labels:\n",
    "    n = n + 1\n",
    "    k_fold = 10\n",
    "    A = np.zeros((k_fold,2))             \n",
    "    l = -1\n",
    "\n",
    "    estimator = []\n",
    "    estimator.append(('MLP', MLPClassifier(alpha=1, random_state=123, max_iter=1000, activation = 'logistic'))),\n",
    "    estimator.append(('LR', LogisticRegression(solver='lbfgs', random_state=123, multi_class='multinomial'))) \n",
    "    estimator.append(('KNC', KNeighborsClassifier(n_neighbors=3))) \n",
    "    estimator.append(('GNB', GaussianNB()))  \n",
    "    estimator.append(('DTC', DecisionTreeClassifier(random_state=0))) \n",
    "    estimator.append(('ABC', AdaBoostClassifier()))       \n",
    "    \n",
    "    \n",
    "    for j in range(k_fold):\n",
    "        X_train, X_test, y_train, y_test = train_test_split(X, Y, train_size = 0.75, random_state=42+j)\n",
    "        vot_soft = VotingClassifier(estimators = estimator, voting ='soft') \n",
    "        vot_soft.fit(X_train, y_train) \n",
    "        y_pred = vot_soft.predict(X_test) \n",
    "        A[j,1] = f1_score(y_test, y_pred, average='micro')\n",
    "        A[j,0] = j\n",
    "    \n",
    "    print(names[n])\n",
    "    print(A)\n",
    "    F_score_value = []\n",
    "    for i in range(len(A)):\n",
    "        F_score_value.append(A[i,1])\n",
    "        \n",
    "    values.append(np.mean(F_score_value))\n",
    "    \n",
    "for name in range(len(names)):\n",
    "    print(names[name] + \" F_score : \" + str(values[name]))\n",
    "\n",
    "plt.bar(names, values)\n",
    "\n",
    "plt.show()"
   ]
  }
 ],
 "metadata": {
  "kernelspec": {
   "display_name": "Python 3 (ipykernel)",
   "language": "python",
   "name": "python3"
  },
  "language_info": {
   "codemirror_mode": {
    "name": "ipython",
    "version": 3
   },
   "file_extension": ".py",
   "mimetype": "text/x-python",
   "name": "python",
   "nbconvert_exporter": "python",
   "pygments_lexer": "ipython3",
   "version": "3.9.7"
  }
 },
 "nbformat": 4,
 "nbformat_minor": 5
}
